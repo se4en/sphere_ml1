{
 "cells": [
  {
   "cell_type": "markdown",
   "metadata": {},
   "source": [
    "# Алгоритмы интеллектуальной обработки больших объемов данных\n",
    "## Домашнее задание №2: Линейные модели\n"
   ]
  },
  {
   "cell_type": "markdown",
   "metadata": {},
   "source": [
    "###### <hr\\>\n",
    "**Общая информация**\n",
    "\n",
    "**Срок сдачи:** 09 ноября 18:00 Сдача **очная** на онлайн занятии. <br\\>\n",
    "\n",
    "\n",
    "Используйте данный Ipython Notebook при оформлении домашнего задания.\n",
    "\n",
    "Присылать ДЗ необходимо в виде ссылки на свой github репозиторий на почту ml1.sphere@mail.ru с указанием темы в следующем формате:\n",
    "\n",
    "[ML0920, Задание 2] Фамилия Имя.\n",
    "\n",
    "\n",
    "\n",
    "**Штрафные баллы:**\n",
    "\n",
    "1. Невыполнение PEP8 -1 балл\n",
    "2. Отсутствие фамилии в имени скрипта (скрипт должен называться по аналогии со stroykova_hw2.ipynb) -1 балл\n",
    "3. Все строчки должны быть выполнены. Нужно, чтобы output команды можно было увидеть уже в git'е. В противном случае -1 балл\n",
    "4. При оформлении ДЗ нужно пользоваться данным файлом в качестве шаблона. Не нужно удалять и видоизменять написанный код и текст, если явно не указана такая возможность. В противном случае -1 балл\n",
    "<hr\\>"
   ]
  },
  {
   "cell_type": "code",
   "execution_count": 1,
   "metadata": {},
   "outputs": [],
   "source": [
    "import pandas as pd\n",
    "import numpy as np\n",
    "import matplotlib.pyplot as plt\n",
    "\n",
    "%matplotlib inline\n",
    "\n",
    "plt.style.use('ggplot')\n",
    "plt.rcParams['figure.figsize'] = (12,5)"
   ]
  },
  {
   "cell_type": "markdown",
   "metadata": {},
   "source": [
    "Здравствуйте, уважаемые студенты! \n",
    "\n",
    "В этом задании мы будем реализовать линейные модели. Необходимо реализовать линейную и логистическую регрессии с L2 регуляризацией"
   ]
  },
  {
   "cell_type": "markdown",
   "metadata": {},
   "source": [
    "# Теоретическое введение\n",
    "\n"
   ]
  },
  {
   "cell_type": "markdown",
   "metadata": {},
   "source": [
    "Линейная регрессия решает задачу регрессии и оптимизирует функцию потерь MSE \n",
    "\n",
    "$$L(w) =  \\frac{1}{N}\\left[\\sum_i (y_i - a_i) ^ 2 \\right], $$ где $y_i$ $-$ целевая функция,  $a_i = a(x_i) =  \\langle\\,x_i,w\\rangle ,$ $-$ предсказание алгоритма на объекте $x_i$, $w$ $-$ вектор весов (размерности $D$), $x_i$ $-$ вектор признаков (такой же размерности $D$).\n",
    "\n",
    "Не забываем, что здесь и далее  мы считаем, что в $x_i$ есть тождественный вектор единиц, ему соответствует вес $w_0$.\n"
   ]
  },
  {
   "cell_type": "markdown",
   "metadata": {},
   "source": [
    "Логистическая регрессия является линейным классификатором, который оптимизирует так называемый функционал log loss:"
   ]
  },
  {
   "cell_type": "markdown",
   "metadata": {},
   "source": [
    "$$L(w) = - \\frac{1}{N}\\left[\\sum_i y_i \\log a_i + ( 1 - y_i) \\log (1 - a_i) \\right],$$\n",
    "где  $y_i  \\in \\{0,1\\}$ $-$ метка класса, $a_i$ $-$ предсказание алгоритма на объекте $x_i$. Модель пытается предсказать апостериорую вероятность объекта принадлежать к классу \"1\":\n",
    "$$ p(y_i = 1 | x_i) = a(x_i) =  \\sigma( \\langle\\,x_i,w\\rangle ),$$\n",
    "$w$ $-$ вектор весов (размерности $D$), $x_i$ $-$ вектор признаков (такой же размерности $D$).\n",
    "\n",
    "Функция $\\sigma(x)$ $-$ нелинейная функция, пероводящее скалярное произведение объекта на веса в число $\\in (0,1)$ (мы же моделируем вероятность все-таки!)\n",
    "\n",
    "$$\\sigma(x) = \\frac{1}{1 + \\exp(-x)}$$\n",
    "\n",
    "Если внимательно посмотреть на функцию потерь, то можно заметить, что в зависимости от правильного ответа алгоритм штрафуется или функцией $-\\log a_i$, или функцией $-\\log (1 - a_i)$.\n",
    "\n"
   ]
  },
  {
   "cell_type": "markdown",
   "metadata": {},
   "source": [
    "Часто для решения проблем, которые так или иначе связаны с проблемой переобучения, в функционал качества добавляют слагаемое, которое называют ***регуляризацией***. Итоговый функционал для линейной регрессии тогда принимает вид:\n",
    "\n",
    "$$L(w) =  \\frac{1}{N}\\left[\\sum_i (y_i - a_i) ^ 2 \\right] + \\frac{1}{C}R(w) $$\n",
    "\n",
    "Для логистической: \n",
    "$$L(w) = - \\frac{1}{N}\\left[\\sum_i y_i \\log a_i + ( 1 - y_i) \\log (1 - a_i) \\right] +  \\frac{1}{C}R(w)$$\n",
    "\n",
    "Самое понятие регуляризации введено основателем ВМК академиком Тихоновым https://ru.wikipedia.org/wiki/Метод_регуляризации_Тихонова\n",
    "\n",
    "Идейно методика регуляризации заключается в следующем $-$ мы рассматриваем некорректно поставленную задачу (что это такое можно найти в интернете), для того чтобы сузить набор различных вариантов (лучшие из которых будут являться переобучением ) мы вводим дополнительные ограничения на множество искомых решений. На лекции Вы уже рассмотрели два варианта регуляризации.\n",
    "\n",
    "$L1$ регуляризация:\n",
    "$$R(w) = \\sum_{j=1}^{D}|w_j|$$\n",
    "$L2$ регуляризация:\n",
    "$$R(w) =  \\sum_{j=1}^{D}w_j^2$$\n",
    "\n",
    "С их помощью мы ограничиваем модель в  возможности выбора каких угодно весов минимизирующих наш лосс, модель уже не сможет подстроиться под данные как ей угодно. \n",
    "\n",
    "Вам нужно добавить соотвествущую Вашему варианту $L2$ регуляризацию.\n",
    "\n",
    "И так, мы поняли, какую функцию ошибки будем минимизировать, разобрались, как получить предсказания по объекту и обученным весам. Осталось разобраться, как получить оптимальные веса. Для этого нужно выбрать какой-то метод оптимизации.\n",
    "\n"
   ]
  },
  {
   "cell_type": "markdown",
   "metadata": {},
   "source": [
    "Градиентный спуск является самым популярным алгоритмом обучения линейных моделей. В этом задании Вам предложат реализовать стохастический градиентный спуск или  мини-батч градиентный спуск (мини-батч на русский язык довольно сложно перевести, многие переводят это как \"пакетный\", но мне не кажется этот перевод удачным). Далее нам потребуется определение **эпохи**.\n",
    "Эпохой в SGD и MB-GD называется один проход по **всем** объектам в обучающей выборки.\n",
    "* В SGD градиент расчитывается по одному случайному объекту. Сам алгоритм выглядит примерно так:\n",
    "        1) Перемешать выборку\n",
    "        2) Посчитать градиент функции потерь на одном объекте (далее один объект тоже будем называть батчем)\n",
    "        3) Сделать шаг спуска\n",
    "        4) Повторять 2) и 3) пока не пройдет максимальное число эпох.\n",
    "* В Mini Batch SGD - по подвыборке объектов. Сам алгоритм выглядит примерно так::\n",
    "        1) Перемешать выборку, выбрать размер мини-батча (от 1 до размера выборки)\n",
    "        2) Почитать градиент функции потерь по мини-батчу (не забыть поделить на  число объектов в мини-батче)\n",
    "        3) Сделать шаг спуска\n",
    "        4) Повторять 2) и 3) пока не пройдет максимальное число эпох.\n",
    "* Для отладки алгоритма реализуйте возможность  вывода средней ошибки на обучении модели по объектам (мини-батчам). После шага градиентного спуска посчитайте значение ошибки на объекте (или мини-батче), а затем усредните, например, по ста шагам. Если обучение проходит корректно, то мы должны увидеть, что каждые 100 шагов функция потерь уменьшается. \n",
    "* Правило останова - максимальное количество эпох\n",
    "    \n"
   ]
  },
  {
   "cell_type": "markdown",
   "metadata": {},
   "source": [
    "# Теоретические вопросы (2 балла)\n",
    "В этой части Вам будут предложены теоретичские вопросы и задачи по теме. Вы, конечно, можете списать их у своего товарища или найти решение в интернете, но учтите, что они обязательно войдут в теоретический коллоквиум. Лучше разобраться в теме сейчас и успешно ответить на коллоквиуме, чем списать, не разобравшись в материале, и быть терзаемым совестью. \n",
    "\n",
    "\n",
    "Формулы надо оформлять в формате **LaTeX**."
   ]
  },
  {
   "cell_type": "markdown",
   "metadata": {},
   "source": [
    "#### Задача 1. Градиент для линейной регрессии.\n",
    "* Выпишите формулу обновления весов для линейной регрессии с L2 регуляризацией для мини-батч градиентого спуска размера $n$:\n",
    "\n",
    "$$ w_{new} = w_{old} - ... $$\n",
    "\n",
    " Отнеситесь к этому пункту максимально серьезно, это Вам нужно будет реализовать в задании.\n",
    " \n",
    "Проанализруйте итоговую формулу градиента - как  интуитивно можно  описать, чему равен градиент?"
   ]
  },
  {
   "cell_type": "markdown",
   "metadata": {},
   "source": [
    "***Ваше решение здесь***"
   ]
  },
  {
   "cell_type": "markdown",
   "metadata": {},
   "source": [
    "$$\\bigtriangledown L(w) =  \\frac{1}{N}\\sum_i \\bigtriangledown(y_i - a_i) ^ 2  + \\frac{1}{C}\\sum_{j=1}^{D} \\bigtriangledown w_j^2  = \\frac{1}{N}\\sum_i 2(x_i*w - a_i)x_i  + \\frac{1}{C}\\sum_{j=1}^{D}2w_j = $$\n",
    "$$ = \\frac{2}{N}\\sum_i(x_i*w - a_i)x_i  + \\frac{2}{C}w $$"
   ]
  },
  {
   "cell_type": "markdown",
   "metadata": {},
   "source": [
    "$$ w_{new} = w_{old} - \\frac{2}{N}\\sum_i(x_i*w - a_i)x_i  - \\frac{2}{C}w$$"
   ]
  },
  {
   "cell_type": "markdown",
   "metadata": {},
   "source": [
    "#### Задача 2. Градиент для логистической регрессии.\n",
    "* Выпишите формулу обновления весов для логистической регрессии с L2 регуляризацией  для мини-батч градиентого спуска размера $n$:\n",
    "\n",
    "$$ w_{new} = w_{old} - ... $$\n",
    "\n",
    " Отнеситесь к этому пункту максимально серьезно, это Вам нужно будет реализовать в задании.\n",
    " \n",
    "Проанализруйте итоговую формулу градиента - как  интуитивно можно  описать, чему равен градиент? Как соотносится этот градиент с градиентом, возникающий в задаче линейной регрессии?\n",
    "\n",
    "Подсказка: Вам градиент, которой получается если “в лоб” продифференцировать,  надо немного преобразовать.\n",
    "Надо подставить, что $1 - \\sigma(w,x) $ это  $1 - a(x_i)$, а  $-\\sigma(w,x)$ это $0 - a(x_i)$.  Тогда получится свести к одной красивой формуле с линейной регрессией, которую программировать будет намного проще."
   ]
  },
  {
   "cell_type": "markdown",
   "metadata": {},
   "source": [
    "***Ваше решение здесь***"
   ]
  },
  {
   "cell_type": "markdown",
   "metadata": {},
   "source": [
    "$$\\bigtriangledown L(w) = - \\frac{1}{N}\\sum_i [ y_i \\bigtriangledown \\log ( \\frac{1}{1 + e^{-x_iw}} ) + ( 1 - y_i)\\bigtriangledown \\log (1 - \\frac{1}{1 + e^{-x_iw}}) ] + \\frac{1}{C}\\sum_{j=1}^{D} \\bigtriangledown w_j^2 = $$\n",
    "$$ = - \\frac{1}{N}\\sum_i [ y_i(1 + e^{-x_iw})(-1)\\frac{1}{(1 + e^{-x_iw})^{2}}(-x_i)e^{-x_iw} + ( 1 - y_i)  \\frac{1 + e^{-x_iw}}{e^{-x_iw}}(-1)\\frac{-1}{(1 + e^{-x_iw})^{2}}(-x_i)e^{-x_iw} ] + \\frac{1}{C}\\sum_{j=1}^{D}2w_j  = $$\n",
    "$$ = - \\frac{1}{N}\\sum_i \\frac{1}{1 + e^{-x_iw}}[ y_ie^{-x_iw}x_i -x_i  + y_ix_i] + \\frac{2}{C}w = \n",
    "- \\frac{1}{N}\\sum_i ( y_i - \\frac{1}{1 + e^{-x_iw}})x_i + \\frac{2}{C}w $$"
   ]
  },
  {
   "cell_type": "markdown",
   "metadata": {},
   "source": [
    "$$ w_{new} = w_{old} + \\frac{1}{N}\\sum_i ( y_i - \\frac{1}{1 + e^{-x_iw}})x_i - \\frac{2}{C}w $$"
   ]
  },
  {
   "cell_type": "markdown",
   "metadata": {},
   "source": [
    "#### Задача 3. Точное решение линейной регрессии\n",
    "\n",
    "На лекции было показано, что точное решение линейной регрессии имеет вид $w = (X^TX)^{-1}X^TY $. \n",
    "* Покажите, что это действительно является точкой минимума в случае, если матрица X имеет строк не меньше, чем столбцов и имеет полный ранг. Подсказка: посчитайте Гессиан и покажите, что в этом случае он положительно определен. \n",
    "* Выпишите точное решение для модели с $L2$ регуляризацией. Как L2 регуляризация помогает с точным решением где матрица X имеет линейно зависимые признаки?"
   ]
  },
  {
   "cell_type": "markdown",
   "metadata": {},
   "source": [
    "***Ваше решение здесь***"
   ]
  },
  {
   "cell_type": "markdown",
   "metadata": {},
   "source": [
    "Дост. усл-ие минимума в критической точке - $H$ положит. определенная."
   ]
  },
  {
   "cell_type": "markdown",
   "metadata": {},
   "source": [
    "$$\\bigtriangledown L(w) = \\frac{2}{N}(X^TXw-X^Ty) = \\frac{2}{N}(X^TXX^{-1}(X^T)^{-1}Y - X^Ty) = \\frac{2}{N}(X^Ty-X^Ty) = 0$$\n",
    "Следовательно, критич. точка."
   ]
  },
  {
   "cell_type": "markdown",
   "metadata": {},
   "source": [
    "$$\\frac{\\partial L(w) }{\\partial w_i} = ...$$"
   ]
  },
  {
   "cell_type": "markdown",
   "metadata": {},
   "source": [
    "$$H(w) = \\sum_{i=1}^{n} \\sum_{i=1}^{n} a_{ij}w_iw_j$$"
   ]
  },
  {
   "cell_type": "markdown",
   "metadata": {},
   "source": [
    "#### Задача 4.  Предсказываем вероятности.\n",
    "\n",
    "Когда говорят о логистической регрессии, произносят фразу, что она \"предсказывает вероятности положительного класса\". Давайте разберемся, что же за этим стоит. Посчитаем математическое ожидание функции потерь и проверим, что предсказание алгоритма, оптимизирующее это мат. ожидание, будет являться вероятностью положительного класса. \n",
    "\n",
    "И так, функция потерь на объекте $x_i$, который имеет метку $y_i \\in \\{0,1\\}$  для предсказания $a(x_i)$ равна:\n",
    "$$L(y_i, b) =-[y_i == 1] \\log a(x_i)  - [y_i == 0] \\log(1 - a(x_i)) $$\n",
    "\n",
    "Где $[]$ означает индикатор $-$ он равен единице, если значение внутри него истинно, иначе он равен нулю. Тогда мат. ожидание при условии конкретного $x_i$  по определение мат. ожидания дискретной случайной величины:\n",
    "$$E(L | x_i) = -p(y_i = 1 |x_i ) \\log a(x_i)  - p(y_i = 0 | x_i) \\log( 1 - a(x_i))$$\n",
    "* Докажите, что значение $a(x_i)$, минимизирующее данное мат. ожидание, в точности равно $p(y_i = 1 |x_i)$, то есть равно вероятности положительного класса.\n",
    "\n",
    "Подсказка: возможно, придется воспользоваться, что  $p(y_i = 1 | x_i) + p(y_i = 0 | x_i) = 1$"
   ]
  },
  {
   "cell_type": "markdown",
   "metadata": {},
   "source": [
    "***Ваше решение здесь***"
   ]
  },
  {
   "cell_type": "markdown",
   "metadata": {},
   "source": [
    "Т.к. нужно найти минимизирующее $a(x)$, то дифф-ть будет тоже по $a(x)$."
   ]
  },
  {
   "cell_type": "markdown",
   "metadata": {},
   "source": [
    "Пусть $p(y_i = 1 |x_i ) = p$, тогда $p(y_i = 0 | x_i) = 1 - p$"
   ]
  },
  {
   "cell_type": "markdown",
   "metadata": {},
   "source": [
    "$$ E'(a) = - \\frac{p}{a} + \\frac{1 - p}{1 - a} = \\frac{a - pa - p + ap}{a(1-a)} = \\frac{a - p}{(1-a)a} $$"
   ]
  },
  {
   "cell_type": "markdown",
   "metadata": {},
   "source": [
    "Следовательно, при $a=p$ достигается экстремум, и это $min$, т.к. при $a>p$ $E'(a)>0$, и при $a<p$ $E'(a)>0$"
   ]
  },
  {
   "cell_type": "markdown",
   "metadata": {},
   "source": [
    "#### Задача 5.  Смысл регуляризации.\n",
    "\n",
    "Нужно ли в L1/L2 регуляризации использовать свободный член $w_0$ (который не умножается ни на какой признак)?\n",
    "\n",
    "Подсказка: подумайте, для чего мы вводим $w_0$"
   ]
  },
  {
   "cell_type": "markdown",
   "metadata": {},
   "source": [
    "***Ваше решение здесь***"
   ]
  },
  {
   "cell_type": "markdown",
   "metadata": {},
   "source": [
    "Нет, не нужно.\n",
    "\n",
    "Во-первых, мы используем регуляризацию для того, чтобы веса, соответствующие сильно коррелирующимеся на train признаками, не принимали больших значений(к ним можно прибавить их л.к., соответсвующую xi*wi + xj*wj = 0, умноженную на любую константу C). Следовательно, т.к. признак при w0 (константа 1) не может сильно коррелировать с другими признаками, то необходимость использовать w0 в регуляризации отпадает.\n",
    "\n",
    "Во-вторых, например, в частном случае с объектами с 2-мя признаками разделяющая гиперплоскость(прямая) далеко не всегда должна пересекать оси в т.(0, 0), что не будет выполняться, если w0 будем использовать в регуляризации."
   ]
  },
  {
   "cell_type": "markdown",
   "metadata": {},
   "source": [
    "#  Реализация линейной модели (4 балла)"
   ]
  },
  {
   "cell_type": "markdown",
   "metadata": {},
   "source": [
    "## Зачем нужны батчи?\n"
   ]
  },
  {
   "cell_type": "markdown",
   "metadata": {},
   "source": [
    "Как Вы могли заметить из теоретического введения, что в случае SGD, что в случа mini-batch GD,  на каждой итерации обновление весов  происходит только по небольшой части данных (1 пример в случае SGD, batch примеров в случае mini-batch). То есть для каждой итерации нам *** не нужна вся выборка***. Мы можем просто итерироваться по выборке, беря батч нужного размера (далее 1 объект тоже будем называть батчом).\n",
    "\n",
    "Легко заметить, что в этом случае нам не нужно загружать все данные в оперативную память, достаточно просто считать батч с диска, обновить веса, считать диска другой батч и так далее. В целях упрощения домашней работы, прямо с диска  мы считывать не будем, будем работать с обычными numpy array. \n",
    "\n",
    "\n",
    "\n"
   ]
  },
  {
   "cell_type": "markdown",
   "metadata": {},
   "source": [
    "## Немножко про генераторы в Python\n",
    "\n"
   ]
  },
  {
   "cell_type": "markdown",
   "metadata": {},
   "source": [
    "Идея считывания данных кусками удачно ложится на так называемые ***генераторы*** из языка Python. В данной работе Вам предлагается не только разобраться с логистической регрессией, но  и познакомиться с таким важным элементом языка.  При желании Вы можете убрать весь код, связанный с генераторами, и реализовать логистическую регрессию и без них, ***штрафоваться это никак не будет***. Главное, чтобы сама модель была реализована правильно, и все пункты были выполнены. \n",
    "\n",
    "Подробнее можно почитать вот тут https://anandology.com/python-practice-book/iterators.html\n"
   ]
  },
  {
   "cell_type": "markdown",
   "metadata": {},
   "source": [
    "К генератору стоит относиться просто как к функции, которая порождает не один объект, а целую последовательность объектов. Новое значение из последовательности генерируется с помощью ключевого слова ***yield***. Ниже Вы можете насладиться  генератором чисел Фибоначчи."
   ]
  },
  {
   "cell_type": "code",
   "execution_count": 2,
   "metadata": {},
   "outputs": [],
   "source": [
    "def fib(max_iter=4):\n",
    "    a, b = 0, 1\n",
    "    iter_num = 0\n",
    "    while 1:\n",
    "        yield a\n",
    "        a, b = b, a + b\n",
    "        iter_num += 1\n",
    "        if iter_num == max_iter:\n",
    "            break"
   ]
  },
  {
   "cell_type": "markdown",
   "metadata": {},
   "source": [
    "Вот так можно сгенерировать последовательность Фибоначчи. \n",
    "\n",
    "Заметьте, что к генераторам можно применять некоторые стандартные функции из Python, например enumerate."
   ]
  },
  {
   "cell_type": "code",
   "execution_count": 3,
   "metadata": {},
   "outputs": [
    {
     "name": "stdout",
     "output_type": "stream",
     "text": [
      "Fib num: 0 fib values: 0\n",
      "Fib num: 1 fib values: 1\n",
      "Fib num: 2 fib values: 1\n",
      "Fib num: 3 fib values: 2\n"
     ]
    }
   ],
   "source": [
    "new_generator = fib()\n",
    "for j, fib_val in enumerate(new_generator):\n",
    "    print (\"Fib num: \" + str(j) + \" fib values: \" + str(fib_val))"
   ]
  },
  {
   "cell_type": "markdown",
   "metadata": {},
   "source": [
    "Пересоздавая объект, можно сколько угодно раз генерировать заново последовательность. "
   ]
  },
  {
   "cell_type": "code",
   "execution_count": 4,
   "metadata": {},
   "outputs": [
    {
     "name": "stdout",
     "output_type": "stream",
     "text": [
      "Fib num: 0 fib values: 0\n",
      "Fib num: 1 fib values: 1\n",
      "Fib num: 2 fib values: 1\n",
      "Fib num: 3 fib values: 2\n",
      "Fib num: 0 fib values: 0\n",
      "Fib num: 1 fib values: 1\n",
      "Fib num: 2 fib values: 1\n",
      "Fib num: 3 fib values: 2\n",
      "Fib num: 0 fib values: 0\n",
      "Fib num: 1 fib values: 1\n",
      "Fib num: 2 fib values: 1\n",
      "Fib num: 3 fib values: 2\n"
     ]
    }
   ],
   "source": [
    "for i in range(0, 3):\n",
    "    new_generator = fib()\n",
    "    for j, fib_val in enumerate(new_generator):\n",
    "        print (\"Fib num: \" + str(j) + \" fib values: \" + str(fib_val))"
   ]
  },
  {
   "cell_type": "markdown",
   "metadata": {},
   "source": [
    "А вот так уже нельзя."
   ]
  },
  {
   "cell_type": "code",
   "execution_count": 5,
   "metadata": {},
   "outputs": [
    {
     "name": "stdout",
     "output_type": "stream",
     "text": [
      "Fib num: 0 fib values: 0\n",
      "Fib num: 1 fib values: 1\n",
      "Fib num: 2 fib values: 1\n",
      "Fib num: 3 fib values: 2\n"
     ]
    }
   ],
   "source": [
    "new_generator = fib()\n",
    "for i in range(0, 3):\n",
    "    for j, fib_val in enumerate(new_generator):\n",
    "        print (\"Fib num: \" + str(j) + \" fib values: \" + str(fib_val))"
   ]
  },
  {
   "cell_type": "markdown",
   "metadata": {},
   "source": [
    "Концепция крайне удобная для обучения  моделей $-$ у Вас есть некий источник данных, который Вам выдает их кусками, и Вам совершенно все равно откуда он их берет. Под ним может скрывать как массив в оперативной памяти, как файл на жестком диске, так и SQL база данных. Вы сами данные никуда не сохраняете, оперативную память экономите."
   ]
  },
  {
   "cell_type": "markdown",
   "metadata": {},
   "source": [
    "Если Вам понравилась идея с генераторами, то Вы можете реализовать свой, используя прототип batch_generator. В нем Вам нужно выдавать батчи признаков и ответов для каждой новой итерации спуска. Если не понравилась идея, то можете реализовывать SGD или mini-batch GD без генераторов."
   ]
  },
  {
   "cell_type": "code",
   "execution_count": 6,
   "metadata": {},
   "outputs": [],
   "source": [
    "def batch_generator(X, y, shuffle=True, batch_size=1):\n",
    "    \"\"\"\n",
    "    Гератор новых батчей для обучения\n",
    "    X          - матрица объекты-признаки\n",
    "    y_batch    - вектор ответов\n",
    "    shuffle    - нужно ли случайно перемешивать выборку\n",
    "    batch_size - размер батча ( 1 это SGD, > 1 mini-batch GD)\n",
    "    Генерирует подвыборку для итерации спуска (X_batch, y_batch)\n",
    "    \"\"\"\n",
    " \n",
    "    X_copy = X.copy()\n",
    "    y_copy = y.copy()\n",
    "   \n",
    "    if shuffle:\n",
    "        perm = np.random.permutation(len(y))\n",
    "        for i in range(len(perm)):\n",
    "            X_copy[i] = X[perm[i]]\n",
    "            y_copy[i] = y[perm[i]]\n",
    "            #x_buf = X_copy[i].copy()\n",
    "            #y_buf = y_copy[i].copy()\n",
    "            #X_copy[i] = X_copy[perm[i]].copy()\n",
    "            #y_copy[i] = y_copy[perm[i]].copy()\n",
    "            #X_copy[perm[i]] = x_buf\n",
    "            #y_copy[perm[i]] = y_buf\n",
    "            \n",
    "    for i in range(X.shape[0]//batch_size):\n",
    "        X_batch = X_copy[i*batch_size:(i+1)*batch_size, :]\n",
    "        y_batch = y_copy[i*batch_size:(i+1)*batch_size]\n",
    "        yield (X_batch, y_batch)\n",
    "        \n",
    "    if (X.shape[0] % batch_size != 0):\n",
    "        X_batch = X_copy[(i+1)*batch_size:, :]\n",
    "        y_batch = y_copy[(i+1)*batch_size:]\n",
    "        yield (X_batch, y_batch) \n",
    "\n",
    "                   \n",
    "#  Теперь можно сделать генератор по данным ()\n",
    "#  my_batch_generator = batch_generator(X, y, shuffle=True, batch_size=1):"
   ]
  },
  {
   "cell_type": "code",
   "execution_count": 7,
   "metadata": {},
   "outputs": [],
   "source": [
    "#%%pycodestyle\n",
    "\n",
    "def sigmoid(x):\n",
    "    \"\"\"\n",
    "    Вычисляем значение сигмоида.\n",
    "    X - выход линейной модели\n",
    "    \"\"\"\n",
    "    return 1/(1 + np.exp(-x))\n",
    "\n",
    "\n",
    "from sklearn.base import BaseEstimator, ClassifierMixin\n",
    "\n",
    "class MySGDClassifier(BaseEstimator, ClassifierMixin):\n",
    "    \n",
    "    def __init__(self, batch_generator, C=1, alpha=0.01, max_epoch=10, model_type='lin_reg', th=0.5):\n",
    "        \"\"\"\n",
    "        batch_generator -- функция генератор, которой будем создавать батчи\n",
    "        C - коэф. регуляризации\n",
    "        alpha - скорость спуска\n",
    "        max_epoch - максимальное количество эпох\n",
    "        model_type - тим модели, lin_reg или log_reg\n",
    "        \"\"\"\n",
    "        \n",
    "        self.C = C\n",
    "        self.alpha = alpha\n",
    "        self.max_epoch = max_epoch\n",
    "        self.batch_generator = batch_generator\n",
    "        self.errors_log = []\n",
    "        self.mean_loss = []\n",
    "        self.model_type = model_type\n",
    "        self.th = th\n",
    "        \n",
    "    def calc_loss(self, X_batch, y_batch):\n",
    "        \"\"\"\n",
    "        Считаем функцию потерь по батчу \n",
    "        X_batch - матрица объекты-признаки по батчу\n",
    "        y_batch - вектор ответов по батчу\n",
    "        Не забудте тип модели (линейная или логистическая регрессия)!\n",
    "        \"\"\"\n",
    "        if self.model_type=='lin_reg':\n",
    "            loss = (X_batch@self.weights-y_batch).T@(X_batch@self.weights-y_batch)/X_batch.shape[0] + \\\n",
    "                    self.weights[1:].T@self.weights[1:]/self.C\n",
    "            #loss = ((X_batch*w).sum(axis=1).ravel() - y_batch)**2/X_batch.shape[0]\n",
    "        elif self.model_type=='log_reg':\n",
    "            loss = - np.sum(y_batch*np.log(sigmoid(np.dot(X_batch, self.weights))) + \\\n",
    "                            (1-y_batch)*np.log(1-sigmoid(X_batch@self.weights)))/X_batch.shape[0] + \\\n",
    "                     self.weights[1:].T@(self.weights[1:])/self.C \n",
    "            \n",
    "        return loss\n",
    "    \n",
    "    def calc_loss_grad(self, X_batch, y_batch):\n",
    "        \"\"\"\n",
    "        Считаем  градиент функции потерь по батчу (то что Вы вывели в задании 1)\n",
    "        X_batch - матрица объекты-признаки по батчу\n",
    "        y_batch - вектор ответов по батчу\n",
    "        Не забудте тип модели (линейная или логистическая регрессия)!\n",
    "        \"\"\"\n",
    "        reg_w = self.weights.copy()\n",
    "        reg_w[0] = 0\n",
    "        if self.model_type=='lin_reg':\n",
    "            loss_grad = 2*X_batch.T@(X_batch@self.weights - y_batch)/X_batch.shape[0] + 2*reg_w/self.C\n",
    "        elif self.model_type=='log_reg':\n",
    "            loss_grad = -X_batch.T@(y_batch-sigmoid(X_batch@self.weights))/X_batch.shape[0] + 2*reg_w/self.C\n",
    "        return loss_grad\n",
    "    \n",
    "    def update_weights(self, new_grad):\n",
    "        \"\"\"\n",
    "        Обновляем вектор весов\n",
    "        new_grad - градиент по батчу\n",
    "        \"\"\"\n",
    "        self.weights -= self.alpha*new_grad\n",
    "    \n",
    "    def fit(self, X, y, batch_size=1, shuffle=True):\n",
    "        '''\n",
    "        Обучение модели\n",
    "        X - матрица объекты-признаки\n",
    "        y - вектор ответов\n",
    "        '''\n",
    "        X = np.hstack((np.ones((X.shape[0], 1)), X))\n",
    "        # Нужно инициализровать случайно веса\n",
    "        self.weights = np.random.normal(size=X.shape[1])\n",
    "        for n in range(0, self.max_epoch):\n",
    "            new_epoch_generator = self.batch_generator(X, y, shuffle=shuffle, batch_size=batch_size)\n",
    "            for batch_num, new_batch in enumerate(new_epoch_generator):\n",
    "                X_batch = new_batch[0]\n",
    "                y_batch = new_batch[1]\n",
    "                batch_grad = self.calc_loss_grad(X_batch, y_batch)\n",
    "                self.update_weights(batch_grad)\n",
    "                # Подумайте в каком месте стоит посчитать ошибку для отладки модели\n",
    "                # До градиентного шага или после\n",
    "                batch_loss = self.calc_loss(X_batch, y_batch)\n",
    "                # После, т.к. мы уже обновили веса и нам нужно актуальное\n",
    "                # значение ошибки, а не то, которое было до шага\n",
    "                self.errors_log.append(batch_loss)\n",
    "        return self\n",
    "        \n",
    "    def get_mean_loss(self, N):\n",
    "        result = []\n",
    "        i = 0 \n",
    "        for i in range(len(self.errors_log)//N):\n",
    "            result.append(np.mean(self.errors_log[i*N:(i+1)*N]))\n",
    "        if (i+1)*N < len(self.errors_log):\n",
    "            result.append(np.mean(self.errors_log[(i+1)*N:]))\n",
    "        return result\n",
    "\n",
    "    def predict(self, X):\n",
    "        '''\n",
    "        Предсказание класса\n",
    "        X - матрица объекты-признаки\n",
    "        Не забудте тип модели (линейная или логистическая регрессия)!\n",
    "        '''\n",
    "        X = np.hstack((np.ones((X.shape[0], 1)), X))\n",
    "        y_hat = np.ones(X.shape[0])\n",
    "        if self.model_type=='lin_reg':\n",
    "            y_hat[np.dot(X, self.weights)<0.5] = 0\n",
    "        elif self.model_type=='log_reg':\n",
    "            y_hat[sigmoid(np.dot(X, self.weights))<self.th] = 0 \n",
    "        # Желательно здесь использовать матричные операции между X и весами, например, numpy.dot \n",
    "        return y_hat"
   ]
  },
  {
   "cell_type": "markdown",
   "metadata": {},
   "source": [
    "Запустите обе регрессии на синтетических данных. \n",
    "\n",
    "\n",
    "Выведите полученные веса и нарисуйте разделяющую границу между классами (используйте только первых два веса для первых двух признаков X[:,0], X[:,1] для отображения в 2d пространство ).  "
   ]
  },
  {
   "cell_type": "code",
   "execution_count": 8,
   "metadata": {},
   "outputs": [],
   "source": [
    "def plot_decision_boundary(clf):\n",
    "    np.random.seed()\n",
    "    clf.fit(X, y, batch_size=1, shuffle=True)\n",
    "    w = clf.weights  \n",
    "    x_ax = np.arange(-4, 8, 1, dtype='int')\n",
    "    if clf.model_type=='lin_reg':\n",
    "        y_ax = (0.5 - w[0] - w[1]*x_ax)/w[2]\n",
    "    else:\n",
    "        y_ax = (- w[0] - w[1]*x_ax)/w[2]\n",
    "    plt.plot(x_ax, y_ax)\n",
    "    print(clf.weights)\n",
    "    return clf.weights\n",
    "    "
   ]
  },
  {
   "cell_type": "code",
   "execution_count": 9,
   "metadata": {
    "scrolled": true
   },
   "outputs": [
    {
     "name": "stdout",
     "output_type": "stream",
     "text": [
      "[ 0.06189786  0.11715241 -0.09144258]\n"
     ]
    },
    {
     "data": {
      "text/plain": [
       "<matplotlib.collections.PathCollection at 0x7f107090f9e8>"
      ]
     },
     "execution_count": 9,
     "metadata": {},
     "output_type": "execute_result"
    },
    {
     "data": {
      "image/png": "[encoded data removed]",
      "text/plain": [
       "<Figure size 864x360 with 1 Axes>"
      ]
     },
     "metadata": {},
     "output_type": "display_data"
    }
   ],
   "source": [
    "np.random.seed(0)\n",
    "\n",
    "C1 = np.array([[0., -0.8], [1.5, 0.8]])\n",
    "C2 = np.array([[1., -0.7], [2., 0.7]])\n",
    "gauss1 = np.dot(np.random.randn(200, 2) + np.array([5, 3]), C1)\n",
    "gauss2 = np.dot(np.random.randn(200, 2) + np.array([1.5, 0]), C2)\n",
    "\n",
    "X = np.vstack([gauss1, gauss2])\n",
    "y = np.r_[np.ones(200), np.zeros(200)]\n",
    "\n",
    "my_model = MySGDClassifier(batch_generator, C=1, alpha=0.01, max_epoch=10, model_type='lin_reg')\n",
    "plot_decision_boundary(my_model)\n",
    "\n",
    "plt.scatter(X[:,0], X[:,1], c=y)"
   ]
  },
  {
   "cell_type": "code",
   "execution_count": 10,
   "metadata": {},
   "outputs": [
    {
     "data": {
      "text/plain": [
       "array([1., 1., 1., 1., 1., 1., 1., 1., 1., 1., 1., 1., 1., 1., 1., 1., 0.,\n",
       "       1., 1., 1., 1., 1., 1., 1., 1., 1., 1., 1., 1., 1., 1., 0., 1., 1.,\n",
       "       1., 1., 1., 1., 1., 1., 1., 1., 1., 1., 1., 1., 1., 1., 1., 1., 1.,\n",
       "       1., 1., 1., 1., 1., 1., 1., 1., 1., 1., 1., 1., 1., 1., 1., 1., 1.,\n",
       "       1., 1., 1., 1., 1., 1., 1., 1., 1., 1., 1., 1., 1., 1., 1., 1., 1.,\n",
       "       1., 1., 1., 1., 1., 1., 0., 1., 1., 1., 1., 1., 1., 1., 1., 1., 1.,\n",
       "       1., 1., 1., 1., 1., 1., 1., 1., 1., 1., 1., 1., 1., 1., 1., 1., 1.,\n",
       "       1., 1., 1., 1., 1., 1., 1., 1., 1., 1., 1., 1., 1., 1., 1., 1., 0.,\n",
       "       1., 1., 1., 1., 1., 1., 1., 1., 1., 1., 1., 1., 1., 1., 1., 1., 1.,\n",
       "       0., 1., 1., 1., 1., 1., 1., 1., 1., 1., 1., 1., 1., 1., 1., 1., 1.,\n",
       "       1., 1., 1., 1., 1., 1., 1., 1., 1., 1., 1., 1., 1., 1., 1., 1., 1.,\n",
       "       1., 1., 1., 1., 0., 1., 1., 1., 1., 1., 1., 1., 1., 0., 1., 0., 0.,\n",
       "       0., 0., 0., 1., 0., 1., 1., 0., 0., 0., 0., 0., 1., 0., 0., 0., 0.,\n",
       "       0., 0., 0., 0., 0., 0., 1., 0., 0., 0., 0., 1., 0., 0., 0., 0., 1.,\n",
       "       0., 1., 1., 0., 0., 1., 0., 0., 1., 1., 0., 0., 0., 0., 0., 0., 0.,\n",
       "       1., 0., 0., 1., 1., 0., 0., 0., 1., 0., 0., 1., 0., 0., 0., 0., 1.,\n",
       "       0., 0., 0., 0., 0., 0., 0., 0., 1., 0., 0., 1., 0., 0., 0., 0., 0.,\n",
       "       1., 0., 0., 0., 0., 0., 1., 0., 0., 0., 0., 0., 0., 0., 0., 0., 0.,\n",
       "       1., 0., 0., 0., 0., 0., 0., 1., 0., 0., 0., 0., 0., 1., 1., 0., 0.,\n",
       "       1., 0., 0., 0., 0., 0., 0., 0., 0., 0., 1., 0., 0., 0., 0., 0., 1.,\n",
       "       0., 1., 0., 0., 1., 1., 0., 0., 0., 1., 0., 0., 1., 0., 1., 0., 0.,\n",
       "       1., 0., 0., 0., 0., 0., 0., 1., 0., 0., 0., 0., 0., 0., 1., 0., 0.,\n",
       "       0., 0., 1., 0., 0., 0., 0., 0., 0., 0., 1., 0., 0., 0., 0., 0., 1.,\n",
       "       0., 0., 1., 0., 0., 0., 0., 0., 0.])"
      ]
     },
     "execution_count": 10,
     "metadata": {},
     "output_type": "execute_result"
    }
   ],
   "source": [
    "my_model.predict(X)"
   ]
  },
  {
   "cell_type": "code",
   "execution_count": 11,
   "metadata": {},
   "outputs": [
    {
     "name": "stdout",
     "output_type": "stream",
     "text": [
      "[-2.45595808  0.5845563  -0.51756018]\n"
     ]
    },
    {
     "data": {
      "text/plain": [
       "<matplotlib.collections.PathCollection at 0x7f10708132e8>"
      ]
     },
     "execution_count": 11,
     "metadata": {},
     "output_type": "execute_result"
    },
    {
     "data": {
      "image/png": "[encoded data removed]",
      "text/plain": [
       "<Figure size 864x360 with 1 Axes>"
      ]
     },
     "metadata": {},
     "output_type": "display_data"
    }
   ],
   "source": [
    "np.random.seed(0)\n",
    "\n",
    "C1 = np.array([[0., -0.8], [1.5, 0.8]])\n",
    "C2 = np.array([[1., -0.7], [2., 0.7]])\n",
    "gauss1 = np.dot(np.random.randn(200, 2) + np.array([5, 3]), C1)\n",
    "gauss2 = np.dot(np.random.randn(200, 2) + np.array([1.5, 0]), C2)\n",
    "\n",
    "X = np.vstack([gauss1, gauss2])\n",
    "y = np.r_[np.ones(200), np.zeros(200)]\n",
    "\n",
    "my_model = MySGDClassifier(batch_generator, C=100, alpha=0.01, max_epoch=10, model_type='log_reg')\n",
    "plot_decision_boundary(my_model)\n",
    "\n",
    "plt.scatter(X[:,0], X[:,1], c=y)"
   ]
  },
  {
   "cell_type": "code",
   "execution_count": 12,
   "metadata": {},
   "outputs": [
    {
     "data": {
      "text/plain": [
       "array([1., 1., 1., 1., 1., 1., 1., 1., 1., 1., 1., 1., 1., 1., 1., 1., 0.,\n",
       "       1., 1., 1., 0., 1., 1., 1., 1., 1., 1., 1., 1., 1., 1., 0., 1., 1.,\n",
       "       1., 1., 1., 1., 1., 1., 1., 1., 1., 1., 1., 1., 1., 1., 1., 1., 1.,\n",
       "       1., 1., 1., 1., 1., 1., 1., 1., 1., 1., 1., 1., 1., 1., 1., 1., 1.,\n",
       "       1., 1., 1., 1., 1., 1., 1., 1., 1., 1., 1., 1., 1., 1., 1., 0., 1.,\n",
       "       1., 1., 1., 1., 1., 1., 0., 1., 1., 1., 1., 1., 1., 1., 1., 1., 1.,\n",
       "       1., 1., 1., 1., 1., 1., 1., 1., 1., 1., 1., 1., 1., 1., 1., 1., 1.,\n",
       "       1., 1., 1., 1., 1., 0., 1., 1., 1., 1., 1., 1., 1., 1., 1., 1., 0.,\n",
       "       1., 1., 1., 1., 1., 1., 1., 1., 1., 1., 1., 1., 1., 1., 1., 1., 1.,\n",
       "       0., 1., 1., 1., 1., 1., 1., 1., 1., 1., 1., 1., 1., 1., 1., 1., 1.,\n",
       "       1., 1., 1., 1., 1., 1., 1., 1., 1., 1., 1., 1., 1., 1., 1., 1., 1.,\n",
       "       1., 1., 1., 1., 0., 1., 0., 1., 1., 1., 1., 1., 1., 0., 0., 0., 0.,\n",
       "       0., 0., 0., 1., 0., 1., 1., 0., 0., 0., 0., 0., 1., 0., 0., 0., 0.,\n",
       "       0., 0., 0., 0., 0., 0., 1., 0., 0., 0., 0., 1., 0., 0., 0., 0., 1.,\n",
       "       0., 1., 1., 0., 0., 1., 0., 0., 1., 1., 0., 0., 0., 0., 0., 0., 0.,\n",
       "       1., 0., 0., 1., 1., 0., 0., 0., 1., 0., 0., 1., 0., 0., 0., 0., 0.,\n",
       "       0., 0., 0., 0., 0., 0., 0., 0., 1., 0., 0., 0., 0., 0., 0., 0., 0.,\n",
       "       0., 0., 0., 0., 0., 0., 0., 0., 0., 0., 0., 0., 0., 0., 0., 0., 0.,\n",
       "       1., 0., 0., 0., 0., 0., 0., 1., 0., 0., 0., 0., 0., 1., 0., 0., 0.,\n",
       "       0., 0., 0., 0., 0., 0., 0., 0., 0., 0., 0., 0., 0., 0., 0., 0., 1.,\n",
       "       0., 1., 0., 0., 1., 1., 0., 0., 0., 1., 0., 0., 1., 0., 1., 0., 0.,\n",
       "       1., 0., 0., 0., 0., 0., 0., 1., 0., 0., 0., 0., 0., 0., 1., 0., 0.,\n",
       "       0., 0., 1., 0., 0., 0., 0., 0., 0., 0., 1., 0., 0., 0., 0., 0., 1.,\n",
       "       0., 0., 0., 0., 0., 0., 0., 0., 0.])"
      ]
     },
     "execution_count": 12,
     "metadata": {},
     "output_type": "execute_result"
    }
   ],
   "source": [
    "my_model.predict(X)"
   ]
  },
  {
   "cell_type": "markdown",
   "metadata": {},
   "source": [
    "Далее будем анализировать Ваш алгоритм. \n",
    "Для этих заданий используйте датасет ниже."
   ]
  },
  {
   "cell_type": "code",
   "execution_count": 13,
   "metadata": {},
   "outputs": [],
   "source": [
    "from sklearn.datasets import make_classification"
   ]
  },
  {
   "cell_type": "code",
   "execution_count": 14,
   "metadata": {},
   "outputs": [],
   "source": [
    "X, y = make_classification(n_samples=100000, n_features=10, \n",
    "                           n_informative=4, n_redundant=0, \n",
    "                           random_state=123, class_sep=1.0,\n",
    "                           n_clusters_per_class=1)"
   ]
  },
  {
   "cell_type": "markdown",
   "metadata": {},
   "source": [
    "Покажите сходимости обеих регрессией на этом датасете: изобразите график  функции потерь, усредненной по $N$ шагам градиентого спуска, для разных `alpha` (размеров шага). Разные `alpha` расположите на одном графике. \n",
    "\n",
    "$N$ можно брать 10, 50, 100 и т.д. "
   ]
  },
  {
   "cell_type": "code",
   "execution_count": 15,
   "metadata": {},
   "outputs": [],
   "source": [
    "my_lin_reg = MySGDClassifier(batch_generator, C=1, alpha=0.05, max_epoch=10, model_type='lin_reg')\n",
    "my_lin_reg.fit(X, y, batch_size=1)\n",
    "loss_1 = my_lin_reg.get_mean_loss(1000)\n",
    "\n",
    "my_lin_reg = MySGDClassifier(batch_generator, C=1, alpha=0.01, max_epoch=10, model_type='lin_reg')\n",
    "my_lin_reg.fit(X, y, batch_size=1)\n",
    "loss_2 = my_lin_reg.get_mean_loss(1000)\n",
    "\n",
    "my_lin_reg = MySGDClassifier(batch_generator, C=1, alpha=0.001, max_epoch=10, model_type='lin_reg')\n",
    "my_lin_reg.fit(X, y, batch_size=1)\n",
    "loss_3 = my_lin_reg.get_mean_loss(1000)\n",
    "\n",
    "my_lin_reg = MySGDClassifier(batch_generator, C=1, alpha=0.0001, max_epoch=10, model_type='lin_reg')\n",
    "my_lin_reg.fit(X, y, batch_size=1)\n",
    "loss_4 = my_lin_reg.get_mean_loss(1000)"
   ]
  },
  {
   "cell_type": "code",
   "execution_count": 16,
   "metadata": {},
   "outputs": [
    {
     "data": {
      "text/plain": [
       "(0.0, 1.0)"
      ]
     },
     "execution_count": 16,
     "metadata": {},
     "output_type": "execute_result"
    },
    {
     "data": {
      "image/png": "[encoded data removed]",
      "text/plain": [
       "<Figure size 1080x504 with 1 Axes>"
      ]
     },
     "metadata": {},
     "output_type": "display_data"
    }
   ],
   "source": [
    "fig, ax = plt.subplots(figsize=(15, 7))\n",
    "\n",
    "step_count = np.arange(len(loss_1))*1000\n",
    "ax.plot(step_count, loss_1)\n",
    "ax.plot(step_count, loss_2)\n",
    "ax.plot(step_count, loss_3)\n",
    "ax.plot(step_count, loss_4)\n",
    "ax.legend(['0.05', '0.01', '0.001', '0.0001'])\n",
    "ax.set_ylabel('mean_loss')\n",
    "ax.set_xlabel('steps')\n",
    "plt.ylim(0, 1)"
   ]
  },
  {
   "cell_type": "code",
   "execution_count": 17,
   "metadata": {},
   "outputs": [],
   "source": [
    "my_lin_reg = MySGDClassifier(batch_generator, C=1000, alpha=0.05, max_epoch=10, model_type='log_reg')\n",
    "my_lin_reg.fit(X, y, batch_size=1)\n",
    "loss_1 = my_lin_reg.get_mean_loss(1000)\n",
    "\n",
    "my_lin_reg = MySGDClassifier(batch_generator, C=1000, alpha=0.01, max_epoch=10, model_type='log_reg')\n",
    "my_lin_reg.fit(X, y, batch_size=1)\n",
    "loss_2 = my_lin_reg.get_mean_loss(1000)\n",
    "\n",
    "my_lin_reg = MySGDClassifier(batch_generator, C=1000, alpha=0.001, max_epoch=10, model_type='log_reg')\n",
    "my_lin_reg.fit(X, y, batch_size=1)\n",
    "loss_3 = my_lin_reg.get_mean_loss(1000)\n",
    "\n",
    "my_lin_reg = MySGDClassifier(batch_generator, C=1000, alpha=0.0001, max_epoch=10, model_type='log_reg')\n",
    "my_lin_reg.fit(X, y, batch_size=1)\n",
    "loss_4 = my_lin_reg.get_mean_loss(1000)"
   ]
  },
  {
   "cell_type": "code",
   "execution_count": 18,
   "metadata": {},
   "outputs": [
    {
     "data": {
      "text/plain": [
       "(0.0, 0.4)"
      ]
     },
     "execution_count": 18,
     "metadata": {},
     "output_type": "execute_result"
    },
    {
     "data": {
      "image/png": "[encoded data removed]",
      "text/plain": [
       "<Figure size 1080x504 with 1 Axes>"
      ]
     },
     "metadata": {},
     "output_type": "display_data"
    }
   ],
   "source": [
    "fig, ax = plt.subplots(figsize=(15, 7))\n",
    "\n",
    "step_count = np.arange(len(loss_1))*1000\n",
    "ax.plot(step_count, loss_1)\n",
    "ax.plot(step_count, loss_2)\n",
    "ax.plot(step_count, loss_3)\n",
    "ax.plot(step_count, loss_4)\n",
    "ax.legend(['0.05', '0.01', '0.001', '0.0001'])\n",
    "ax.set_ylabel('mean_loss')\n",
    "ax.set_xlabel('steps')\n",
    "plt.ylim(0, 0.4)"
   ]
  },
  {
   "cell_type": "markdown",
   "metadata": {},
   "source": [
    "Что Вы можете сказать про сходимость метода при различных `alpha`? Какое значение стоит выбирать для лучшей сходимости?"
   ]
  },
  {
   "cell_type": "markdown",
   "metadata": {},
   "source": [
    "При маленьком alpha метод сходится заметно медленнее, а при большом alpha линейная регрессия не сходится. Судя по графикам, лучшее значение alpha - 0.01."
   ]
  },
  {
   "cell_type": "markdown",
   "metadata": {},
   "source": [
    "Изобразите график среднего значения весов для обеих регрессий в зависимости от коеф. регуляризации С из `np.logspace(3, -3, 10)` "
   ]
  },
  {
   "cell_type": "code",
   "execution_count": 19,
   "metadata": {},
   "outputs": [],
   "source": [
    "c_lin = []\n",
    "c_log = []\n",
    "w_mean_lin = []\n",
    "w_mean_log = []"
   ]
  },
  {
   "cell_type": "code",
   "execution_count": 20,
   "metadata": {},
   "outputs": [
    {
     "name": "stderr",
     "output_type": "stream",
     "text": [
      "/home/dmitry/.local/lib/python3.6/site-packages/ipykernel_launcher.py:42: RuntimeWarning: overflow encountered in double_scalars\n",
      "/home/dmitry/.local/lib/python3.6/site-packages/ipykernel_launcher.py:41: RuntimeWarning: overflow encountered in matmul\n",
      "/home/dmitry/.local/lib/python3.6/site-packages/ipykernel_launcher.py:42: RuntimeWarning: overflow encountered in matmul\n",
      "/home/dmitry/.local/lib/python3.6/site-packages/ipykernel_launcher.py:61: RuntimeWarning: overflow encountered in true_divide\n",
      "/home/dmitry/.local/lib/python3.6/site-packages/ipykernel_launcher.py:61: RuntimeWarning: overflow encountered in add\n",
      "/home/dmitry/.local/lib/python3.6/site-packages/ipykernel_launcher.py:41: RuntimeWarning: invalid value encountered in matmul\n",
      "/home/dmitry/.local/lib/python3.6/site-packages/ipykernel_launcher.py:61: RuntimeWarning: invalid value encountered in matmul\n",
      "/home/dmitry/.local/lib/python3.6/site-packages/ipykernel_launcher.py:71: RuntimeWarning: invalid value encountered in subtract\n"
     ]
    }
   ],
   "source": [
    "for c in np.logspace(3, -3, 10):\n",
    "    lin = MySGDClassifier(batch_generator, C=c, alpha=0.01, max_epoch=10, model_type='lin_reg')\n",
    "    lin.fit(X, y, batch_size=10)\n",
    "    c_lin.append(c)\n",
    "    w_mean_lin.append(lin.weights[1:]@(lin.weights[1:].T)/(len(lin.weights)-1))"
   ]
  },
  {
   "cell_type": "code",
   "execution_count": 21,
   "metadata": {
    "scrolled": true
   },
   "outputs": [
    {
     "data": {
      "text/plain": [
       "[<matplotlib.lines.Line2D at 0x7f10677c6518>]"
      ]
     },
     "execution_count": 21,
     "metadata": {},
     "output_type": "execute_result"
    },
    {
     "data": {
      "image/png": "[encoded data removed]",
      "text/plain": [
       "<Figure size 864x360 with 1 Axes>"
      ]
     },
     "metadata": {},
     "output_type": "display_data"
    }
   ],
   "source": [
    "plt.plot(c_lin, w_mean_lin)"
   ]
  },
  {
   "cell_type": "code",
   "execution_count": 22,
   "metadata": {},
   "outputs": [
    {
     "name": "stderr",
     "output_type": "stream",
     "text": [
      "/home/dmitry/.local/lib/python3.6/site-packages/ipykernel_launcher.py:46: RuntimeWarning: divide by zero encountered in log\n",
      "/home/dmitry/.local/lib/python3.6/site-packages/ipykernel_launcher.py:46: RuntimeWarning: invalid value encountered in multiply\n",
      "/home/dmitry/.local/lib/python3.6/site-packages/ipykernel_launcher.py:8: RuntimeWarning: overflow encountered in exp\n",
      "  \n",
      "/home/dmitry/.local/lib/python3.6/site-packages/ipykernel_launcher.py:45: RuntimeWarning: divide by zero encountered in log\n",
      "/home/dmitry/.local/lib/python3.6/site-packages/ipykernel_launcher.py:45: RuntimeWarning: invalid value encountered in multiply\n",
      "/home/dmitry/.local/lib/python3.6/site-packages/ipykernel_launcher.py:47: RuntimeWarning: overflow encountered in double_scalars\n",
      "/home/dmitry/.local/lib/python3.6/site-packages/ipykernel_launcher.py:47: RuntimeWarning: overflow encountered in matmul\n",
      "/home/dmitry/.local/lib/python3.6/site-packages/ipykernel_launcher.py:63: RuntimeWarning: overflow encountered in true_divide\n",
      "/home/dmitry/.local/lib/python3.6/site-packages/ipykernel_launcher.py:46: RuntimeWarning: invalid value encountered in matmul\n",
      "/home/dmitry/.local/lib/python3.6/site-packages/ipykernel_launcher.py:63: RuntimeWarning: invalid value encountered in matmul\n"
     ]
    }
   ],
   "source": [
    "for c in np.logspace(3, -3, 10):\n",
    "    log = MySGDClassifier(batch_generator, C=c, alpha=0.01, max_epoch=10, model_type='log_reg')\n",
    "    log.fit(X, y, batch_size=10)\n",
    "    c_log.append(c)\n",
    "    w_mean_log.append(log.weights[1:]@(log.weights[1:].T)/(len(log.weights)-1))"
   ]
  },
  {
   "cell_type": "code",
   "execution_count": 23,
   "metadata": {},
   "outputs": [
    {
     "data": {
      "text/plain": [
       "[<matplotlib.lines.Line2D at 0x7f1067779c18>]"
      ]
     },
     "execution_count": 23,
     "metadata": {},
     "output_type": "execute_result"
    },
    {
     "data": {
      "image/png": "[encoded data removed]",
      "text/plain": [
       "<Figure size 864x360 with 1 Axes>"
      ]
     },
     "metadata": {},
     "output_type": "display_data"
    }
   ],
   "source": [
    "plt.plot(c_log, w_mean_log)"
   ]
  },
  {
   "cell_type": "markdown",
   "metadata": {},
   "source": [
    "Довольны ли Вы, насколько сильно уменьшились Ваши веса? "
   ]
  },
  {
   "cell_type": "markdown",
   "metadata": {},
   "source": [
    "В логистической регресси веса уменьшились заметно, что меня радует, а вот в линейной разница не такая большая. "
   ]
  },
  {
   "cell_type": "markdown",
   "metadata": {},
   "source": [
    "# Боевое применение (4  балла)\n",
    "\n",
    "**Защита данной части возможна только при преодолении в проекте бейзлайна Handmade baseline.**"
   ]
  },
  {
   "cell_type": "markdown",
   "metadata": {},
   "source": [
    "Давайте применим модель на итоговом проекте! Датасет сделаем точно таким же образом, как было показано в project_overview.ipynb\n",
    "\n",
    "Применим обе регрессии, подберем для них параметры и сравним качество. Может быть Вы еще одновременно с решением домашней работы подрастете на лидерборде!"
   ]
  },
  {
   "cell_type": "code",
   "execution_count": 24,
   "metadata": {},
   "outputs": [
    {
     "name": "stdout",
     "output_type": "stream",
     "text": [
      "28026\n"
     ]
    }
   ],
   "source": [
    "doc_to_title = {}\n",
    "with open('docs_titles.tsv') as f:\n",
    "    for num_line, line in enumerate(f):\n",
    "        if num_line == 0:\n",
    "            continue\n",
    "        data = line.strip().split('\\t', 1)\n",
    "        doc_id = int(data[0])\n",
    "        if len(data) == 1:\n",
    "            title = ''\n",
    "        else:\n",
    "            title = data[1]\n",
    "        doc_to_title[doc_id] = title\n",
    "print (len(doc_to_title))"
   ]
  },
  {
   "cell_type": "code",
   "execution_count": 25,
   "metadata": {},
   "outputs": [],
   "source": [
    "import pandas as pd\n",
    "train_data = pd.read_csv('train_groups.csv')\n",
    "traingroups_titledata = {}\n",
    "for i in range(len(train_data)):\n",
    "    new_doc = train_data.iloc[i]\n",
    "    doc_group = new_doc['group_id']\n",
    "    doc_id = new_doc['doc_id']\n",
    "    target = new_doc['target']\n",
    "    title = doc_to_title[doc_id]\n",
    "    if doc_group not in traingroups_titledata:\n",
    "        traingroups_titledata[doc_group] = []\n",
    "    traingroups_titledata[doc_group].append((doc_id, title, target))"
   ]
  },
  {
   "cell_type": "code",
   "execution_count": 26,
   "metadata": {},
   "outputs": [
    {
     "name": "stdout",
     "output_type": "stream",
     "text": [
      "(11690, 15) (11690,) (11690,)\n"
     ]
    }
   ],
   "source": [
    "import numpy as np\n",
    "y_train = []\n",
    "X_train = []\n",
    "groups_train = []\n",
    "for new_group in traingroups_titledata:\n",
    "    docs = traingroups_titledata[new_group]\n",
    "    for k, (doc_id, title, target_id) in enumerate(docs):\n",
    "        y_train.append(target_id)\n",
    "        groups_train.append(new_group)\n",
    "        all_dist = []\n",
    "        words = set(title.strip().split())\n",
    "        for j in range(0, len(docs)):\n",
    "            if k == j:\n",
    "                continue\n",
    "            doc_id_j, title_j, target_j = docs[j]\n",
    "            words_j = set(title_j.strip().split())\n",
    "            all_dist.append(len(words.intersection(words_j)))\n",
    "        X_train.append(sorted(all_dist, reverse=True)[0:15]    )\n",
    "X_train = np.array(X_train)\n",
    "y_train = np.array(y_train)\n",
    "groups_train = np.array(groups_train)\n",
    "print (X_train.shape, y_train.shape, groups_train.shape)"
   ]
  },
  {
   "cell_type": "code",
   "execution_count": null,
   "metadata": {},
   "outputs": [],
   "source": []
  },
  {
   "cell_type": "code",
   "execution_count": null,
   "metadata": {},
   "outputs": [],
   "source": []
  },
  {
   "cell_type": "code",
   "execution_count": null,
   "metadata": {},
   "outputs": [],
   "source": []
  },
  {
   "cell_type": "markdown",
   "metadata": {},
   "source": [
    "#### Линейная регрессия"
   ]
  },
  {
   "cell_type": "code",
   "execution_count": 132,
   "metadata": {},
   "outputs": [],
   "source": [
    "lin_reg = MySGDClassifier(batch_generator, C=1, alpha=0.001, max_epoch=10, model_type='lin_reg')\n",
    "lin_reg.fit(X_train, y_train, batch_size=1)\n",
    "loss_lin = lin_reg.get_mean_loss(500)"
   ]
  },
  {
   "cell_type": "code",
   "execution_count": 133,
   "metadata": {},
   "outputs": [
    {
     "data": {
      "text/plain": [
       "(array([0.27752869, 0.0060196 , 0.02397957, 0.01646617, 0.01895265,\n",
       "        0.01383902, 0.01645879, 0.01873867, 0.01393988, 0.01548472,\n",
       "        0.01454657, 0.01401542, 0.01645351, 0.01874216, 0.01576295,\n",
       "        0.01447562]),\n",
       " [0.14821583770357907,\n",
       "  0.1548063921787717,\n",
       "  0.15342902605460856,\n",
       "  0.1526556878189699,\n",
       "  0.1560608261309154,\n",
       "  0.14766144203515205,\n",
       "  0.15238618037783191,\n",
       "  0.1431147540172033,\n",
       "  0.1515264128777467,\n",
       "  0.15651789436610175])"
      ]
     },
     "execution_count": 133,
     "metadata": {},
     "output_type": "execute_result"
    }
   ],
   "source": [
    "lin_reg.weights, loss_lin[-10:]"
   ]
  },
  {
   "cell_type": "code",
   "execution_count": 139,
   "metadata": {},
   "outputs": [
    {
     "data": {
      "image/png": "[encoded data removed]",
      "text/plain": [
       "<Figure size 1080x504 with 1 Axes>"
      ]
     },
     "metadata": {},
     "output_type": "display_data"
    }
   ],
   "source": [
    "fig, ax = plt.subplots(figsize=(15, 7))\n",
    "\n",
    "step_count = np.arange(len(loss_lin))*100\n",
    "ax.plot(step_count, loss_lin)\n",
    "plt.ylim(0, 1)\n",
    "plt.show()"
   ]
  },
  {
   "cell_type": "markdown",
   "metadata": {},
   "source": [
    "#### Логистическая регрессия"
   ]
  },
  {
   "cell_type": "code",
   "execution_count": 72,
   "metadata": {},
   "outputs": [],
   "source": [
    "log_reg = MySGDClassifier(batch_generator, C=1000, alpha=0.001, max_epoch=10, model_type='log_reg')\n",
    "log_reg.fit(X_train, y_train, batch_size=100)\n",
    "loss_log = log_reg.get_mean_loss(100)"
   ]
  },
  {
   "cell_type": "code",
   "execution_count": 73,
   "metadata": {},
   "outputs": [
    {
     "data": {
      "text/plain": [
       "(array([-1.7512127 , -0.4822446 ,  0.1496544 , -0.08441255,  0.89260919,\n",
       "         0.64967299, -0.54695901,  1.10542589, -0.13628533, -0.19723556,\n",
       "        -1.84659119,  0.54852495,  0.20209394,  0.02430903,  0.48973421,\n",
       "        -0.20199102]),\n",
       " [0.5798729324445052,\n",
       "  0.5733279965314125,\n",
       "  0.5772039000020752,\n",
       "  0.5790259536166009,\n",
       "  0.5711451778255806,\n",
       "  0.5660135096232158,\n",
       "  0.5794591344887366,\n",
       "  0.5680390870119216,\n",
       "  0.5689419498447674,\n",
       "  0.5676612206528642])"
      ]
     },
     "execution_count": 73,
     "metadata": {},
     "output_type": "execute_result"
    }
   ],
   "source": [
    "log_reg.weights, loss_log[-10:]"
   ]
  },
  {
   "cell_type": "code",
   "execution_count": 74,
   "metadata": {},
   "outputs": [
    {
     "data": {
      "image/png": "[encoded data removed]",
      "text/plain": [
       "<Figure size 1080x504 with 1 Axes>"
      ]
     },
     "metadata": {},
     "output_type": "display_data"
    }
   ],
   "source": [
    "fig, ax = plt.subplots(figsize=(15, 7))\n",
    "\n",
    "step_count = np.arange(len(loss_log))*100\n",
    "ax.plot(step_count, loss_log)\n",
    "plt.ylim(0, 1)\n",
    "plt.show()"
   ]
  },
  {
   "cell_type": "markdown",
   "metadata": {},
   "source": [
    "Подберите размер батча для обучения. Линейная модель не должна учиться дольше нескольких минут. \n",
    "\n",
    "Не забывайте использовать скейлер!"
   ]
  },
  {
   "cell_type": "code",
   "execution_count": 27,
   "metadata": {},
   "outputs": [],
   "source": [
    "from sklearn.metrics import f1_score\n",
    "from sklearn.linear_model import LinearRegression\n",
    "from sklearn.preprocessing import StandardScaler"
   ]
  },
  {
   "cell_type": "code",
   "execution_count": 28,
   "metadata": {},
   "outputs": [
    {
     "name": "stdout",
     "output_type": "stream",
     "text": [
      "(11690, 15)\n"
     ]
    }
   ],
   "source": [
    "st = StandardScaler()\n",
    "X = st.fit_transform(X_train, y_train)\n",
    "print(X.shape)"
   ]
  },
  {
   "cell_type": "code",
   "execution_count": 29,
   "metadata": {},
   "outputs": [
    {
     "data": {
      "image/png": "[encoded data removed]",
      "text/plain": [
       "<Figure size 864x360 with 1 Axes>"
      ]
     },
     "metadata": {},
     "output_type": "display_data"
    }
   ],
   "source": [
    "size = [1, 10, 50, 100, 200, 300, 400, 500, 1000]  \n",
    "linloss = []\n",
    "logloss = []\n",
    "for cur_size in size:\n",
    "    clf = MySGDClassifier(batch_generator, model_type='lin_reg')\n",
    "    clf.fit(X, y_train, batch_size = cur_size)\n",
    "    linloss.append(clf.get_mean_loss(100)[-1])\n",
    "    \n",
    "    clf = MySGDClassifier(batch_generator, C=100, model_type='log_reg')\n",
    "    clf.fit(X, y_train, batch_size = cur_size)\n",
    "    logloss.append(clf.get_mean_loss(100)[-1])\n",
    "    \n",
    "l1, = plt.plot(size, logloss, label='log_reg')\n",
    "l2, = plt.plot(size, linloss, label='lin_reg')\n",
    "plt.legend(handles=[l1, l2])\n",
    "plt.xlim(0, 1000)\n",
    "plt.ylim(0, 2)\n",
    "plt.show()"
   ]
  },
  {
   "cell_type": "code",
   "execution_count": null,
   "metadata": {},
   "outputs": [],
   "source": []
  },
  {
   "cell_type": "code",
   "execution_count": null,
   "metadata": {},
   "outputs": [],
   "source": []
  },
  {
   "cell_type": "code",
   "execution_count": 155,
   "metadata": {},
   "outputs": [],
   "source": [
    "def cross_val_score(clf, X, y, batch_size=1):\n",
    "    score = []\n",
    "    for i in range(12):\n",
    "        X_val = X[np.logical_and(10*i<groups_train, groups_train<=10*(i+1))]\n",
    "        y_val = y[np.logical_and(10*i<groups_train, groups_train<=10*(i+1))]\n",
    "        X_train = X[np.logical_or(groups_train<=10*i, groups_train>10*(i+1))]\n",
    "        y_train = y[np.logical_or(groups_train<=10*i, groups_train>10*(i+1))]\n",
    "        log_reg.fit(X_train, y_train, batch_size=batch_size)\n",
    "        y_pred = log_reg.predict(X_val)\n",
    "        score.append(f1_score(y_val, y_pred))\n",
    "    \n",
    "    X_val, y_val = X[groups_train>120], y[groups_train>120]\n",
    "    X_train, y_train = X[groups_train<=120], y[groups_train<=120]\n",
    "    log_reg.fit(X_train, y_train, batch_size=batch_size)\n",
    "    y_pred = log_reg.predict(X_val)\n",
    "    score.append(f1_score(y_val, y_pred))\n",
    "    \n",
    "    return np.mean(score)"
   ]
  },
  {
   "cell_type": "code",
   "execution_count": 156,
   "metadata": {},
   "outputs": [
    {
     "ename": "IndexError",
     "evalue": "boolean index did not match indexed array along dimension 0; dimension is 9897 but corresponding boolean dimension is 11690",
     "output_type": "error",
     "traceback": [
      "\u001b[0;31m---------------------------------------------------------------------------\u001b[0m",
      "\u001b[0;31mIndexError\u001b[0m                                Traceback (most recent call last)",
      "\u001b[0;32m<ipython-input-156-f6c356886231>\u001b[0m in \u001b[0;36m<module>\u001b[0;34m\u001b[0m\n\u001b[1;32m      4\u001b[0m \u001b[0;32mfor\u001b[0m \u001b[0mb_size\u001b[0m \u001b[0;32min\u001b[0m \u001b[0mbatch_list\u001b[0m\u001b[0;34m:\u001b[0m\u001b[0;34m\u001b[0m\u001b[0;34m\u001b[0m\u001b[0m\n\u001b[1;32m      5\u001b[0m     \u001b[0mmy_reg\u001b[0m \u001b[0;34m=\u001b[0m \u001b[0mMySGDClassifier\u001b[0m\u001b[0;34m(\u001b[0m\u001b[0mbatch_generator\u001b[0m\u001b[0;34m,\u001b[0m \u001b[0mC\u001b[0m\u001b[0;34m=\u001b[0m\u001b[0;36m10\u001b[0m\u001b[0;34m,\u001b[0m \u001b[0malpha\u001b[0m\u001b[0;34m=\u001b[0m\u001b[0;36m0.001\u001b[0m\u001b[0;34m,\u001b[0m \u001b[0mmax_epoch\u001b[0m\u001b[0;34m=\u001b[0m\u001b[0;36m1\u001b[0m\u001b[0;34m,\u001b[0m \u001b[0mmodel_type\u001b[0m\u001b[0;34m=\u001b[0m\u001b[0;34m'lin_reg'\u001b[0m\u001b[0;34m)\u001b[0m\u001b[0;34m\u001b[0m\u001b[0;34m\u001b[0m\u001b[0m\n\u001b[0;32m----> 6\u001b[0;31m     \u001b[0mbatch_score\u001b[0m\u001b[0;34m.\u001b[0m\u001b[0mappend\u001b[0m\u001b[0;34m(\u001b[0m\u001b[0mcross_val_score\u001b[0m\u001b[0;34m(\u001b[0m\u001b[0mmy_reg\u001b[0m\u001b[0;34m,\u001b[0m \u001b[0mX_train\u001b[0m\u001b[0;34m,\u001b[0m \u001b[0my_train\u001b[0m\u001b[0;34m,\u001b[0m \u001b[0mbatch_size\u001b[0m\u001b[0;34m=\u001b[0m\u001b[0mb_size\u001b[0m\u001b[0;34m)\u001b[0m\u001b[0;34m)\u001b[0m\u001b[0;34m\u001b[0m\u001b[0;34m\u001b[0m\u001b[0m\n\u001b[0m\u001b[1;32m      7\u001b[0m     \u001b[0mprint\u001b[0m\u001b[0;34m(\u001b[0m\u001b[0mbatch_score\u001b[0m\u001b[0;34m[\u001b[0m\u001b[0;34m-\u001b[0m\u001b[0;36m1\u001b[0m\u001b[0;34m]\u001b[0m\u001b[0;34m)\u001b[0m\u001b[0;34m\u001b[0m\u001b[0;34m\u001b[0m\u001b[0m\n",
      "\u001b[0;32m<ipython-input-155-ab6599066c80>\u001b[0m in \u001b[0;36mcross_val_score\u001b[0;34m(clf, X, y, batch_size)\u001b[0m\n\u001b[1;32m      2\u001b[0m     \u001b[0mscore\u001b[0m \u001b[0;34m=\u001b[0m \u001b[0;34m[\u001b[0m\u001b[0;34m]\u001b[0m\u001b[0;34m\u001b[0m\u001b[0;34m\u001b[0m\u001b[0m\n\u001b[1;32m      3\u001b[0m     \u001b[0;32mfor\u001b[0m \u001b[0mi\u001b[0m \u001b[0;32min\u001b[0m \u001b[0mrange\u001b[0m\u001b[0;34m(\u001b[0m\u001b[0;36m12\u001b[0m\u001b[0;34m)\u001b[0m\u001b[0;34m:\u001b[0m\u001b[0;34m\u001b[0m\u001b[0;34m\u001b[0m\u001b[0m\n\u001b[0;32m----> 4\u001b[0;31m         \u001b[0mX_val\u001b[0m \u001b[0;34m=\u001b[0m \u001b[0mX\u001b[0m\u001b[0;34m[\u001b[0m\u001b[0mnp\u001b[0m\u001b[0;34m.\u001b[0m\u001b[0mlogical_and\u001b[0m\u001b[0;34m(\u001b[0m\u001b[0;36m10\u001b[0m\u001b[0;34m*\u001b[0m\u001b[0mi\u001b[0m\u001b[0;34m<\u001b[0m\u001b[0mgroups_train\u001b[0m\u001b[0;34m,\u001b[0m \u001b[0mgroups_train\u001b[0m\u001b[0;34m<=\u001b[0m\u001b[0;36m10\u001b[0m\u001b[0;34m*\u001b[0m\u001b[0;34m(\u001b[0m\u001b[0mi\u001b[0m\u001b[0;34m+\u001b[0m\u001b[0;36m1\u001b[0m\u001b[0;34m)\u001b[0m\u001b[0;34m)\u001b[0m\u001b[0;34m]\u001b[0m\u001b[0;34m\u001b[0m\u001b[0;34m\u001b[0m\u001b[0m\n\u001b[0m\u001b[1;32m      5\u001b[0m         \u001b[0my_val\u001b[0m \u001b[0;34m=\u001b[0m \u001b[0my\u001b[0m\u001b[0;34m[\u001b[0m\u001b[0mnp\u001b[0m\u001b[0;34m.\u001b[0m\u001b[0mlogical_and\u001b[0m\u001b[0;34m(\u001b[0m\u001b[0;36m10\u001b[0m\u001b[0;34m*\u001b[0m\u001b[0mi\u001b[0m\u001b[0;34m<\u001b[0m\u001b[0mgroups_train\u001b[0m\u001b[0;34m,\u001b[0m \u001b[0mgroups_train\u001b[0m\u001b[0;34m<=\u001b[0m\u001b[0;36m10\u001b[0m\u001b[0;34m*\u001b[0m\u001b[0;34m(\u001b[0m\u001b[0mi\u001b[0m\u001b[0;34m+\u001b[0m\u001b[0;36m1\u001b[0m\u001b[0;34m)\u001b[0m\u001b[0;34m)\u001b[0m\u001b[0;34m]\u001b[0m\u001b[0;34m\u001b[0m\u001b[0;34m\u001b[0m\u001b[0m\n\u001b[1;32m      6\u001b[0m         \u001b[0mX_train\u001b[0m \u001b[0;34m=\u001b[0m \u001b[0mX\u001b[0m\u001b[0;34m[\u001b[0m\u001b[0mnp\u001b[0m\u001b[0;34m.\u001b[0m\u001b[0mlogical_or\u001b[0m\u001b[0;34m(\u001b[0m\u001b[0mgroups_train\u001b[0m\u001b[0;34m<=\u001b[0m\u001b[0;36m10\u001b[0m\u001b[0;34m*\u001b[0m\u001b[0mi\u001b[0m\u001b[0;34m,\u001b[0m \u001b[0mgroups_train\u001b[0m\u001b[0;34m>\u001b[0m\u001b[0;36m10\u001b[0m\u001b[0;34m*\u001b[0m\u001b[0;34m(\u001b[0m\u001b[0mi\u001b[0m\u001b[0;34m+\u001b[0m\u001b[0;36m1\u001b[0m\u001b[0;34m)\u001b[0m\u001b[0;34m)\u001b[0m\u001b[0;34m]\u001b[0m\u001b[0;34m\u001b[0m\u001b[0;34m\u001b[0m\u001b[0m\n",
      "\u001b[0;31mIndexError\u001b[0m: boolean index did not match indexed array along dimension 0; dimension is 9897 but corresponding boolean dimension is 11690"
     ]
    }
   ],
   "source": [
    "# chose btach_size\n",
    "batch_list = [1, 5, 10, 25, 50, 100]\n",
    "batch_score = []\n",
    "for b_size in batch_list:\n",
    "    my_reg = MySGDClassifier(batch_generator, C=10, alpha=0.001, max_epoch=1, model_type='lin_reg')\n",
    "    batch_score.append(cross_val_score(my_reg, X_train, y_train, batch_size=b_size))\n",
    "    print(batch_score[-1])"
   ]
  },
  {
   "cell_type": "code",
   "execution_count": null,
   "metadata": {},
   "outputs": [],
   "source": [
    "plt.plot(batch_list, batch_score)"
   ]
  },
  {
   "cell_type": "markdown",
   "metadata": {},
   "source": [
    "Разбейте данные на обучение и валидацию. Подберите параметры C, alpha, max_epoch, model_type на валидации (Вы же помните, как правильно в этой задаче делать валидацию?)"
   ]
  },
  {
   "cell_type": "code",
   "execution_count": 30,
   "metadata": {},
   "outputs": [
    {
     "name": "stdout",
     "output_type": "stream",
     "text": [
      "c = 5, alpha =  0.01, max_epoch =  5\n",
      "            model_type: log_reg, score = 0.49573851070170144\n",
      "c = 5, alpha =  0.01, max_epoch =  5\n",
      "            model_type: lin_reg, score = 0.48680386003078335\n",
      "c = 5, alpha =  0.01, max_epoch =  10\n",
      "            model_type: log_reg, score = 0.4524971972374024\n",
      "c = 5, alpha =  0.01, max_epoch =  10\n",
      "            model_type: lin_reg, score = 0.435832369408949\n",
      "c = 5, alpha =  0.01, max_epoch =  20\n",
      "            model_type: log_reg, score = 0.48893277180105016\n",
      "c = 5, alpha =  0.01, max_epoch =  20\n",
      "            model_type: lin_reg, score = 0.3137342938702162\n",
      "c = 5, alpha =  0.05, max_epoch =  5\n",
      "            model_type: log_reg, score = 0.4749981609252358\n",
      "c = 5, alpha =  0.05, max_epoch =  5\n",
      "            model_type: lin_reg, score = 0.18246323948478285\n",
      "c = 5, alpha =  0.05, max_epoch =  10\n",
      "            model_type: log_reg, score = 0.38807644763135984\n",
      "c = 5, alpha =  0.05, max_epoch =  10\n",
      "            model_type: lin_reg, score = 0.43663282641186324\n",
      "c = 5, alpha =  0.05, max_epoch =  20\n",
      "            model_type: log_reg, score = 0.3499091054556945\n",
      "c = 5, alpha =  0.05, max_epoch =  20\n",
      "            model_type: lin_reg, score = 0.5698376954342291\n",
      "c = 5, alpha =  0.15, max_epoch =  5\n",
      "            model_type: log_reg, score = 0.5124582337912335\n"
     ]
    },
    {
     "name": "stderr",
     "output_type": "stream",
     "text": [
      "/home/dmitry/.local/lib/python3.6/site-packages/ipykernel_launcher.py:41: RuntimeWarning: overflow encountered in matmul\n",
      "/home/dmitry/.local/lib/python3.6/site-packages/ipykernel_launcher.py:42: RuntimeWarning: overflow encountered in matmul\n",
      "/home/dmitry/.local/lib/python3.6/site-packages/ipykernel_launcher.py:61: RuntimeWarning: overflow encountered in matmul\n",
      "/home/dmitry/.local/lib/python3.6/site-packages/ipykernel_launcher.py:41: RuntimeWarning: invalid value encountered in matmul\n",
      "/home/dmitry/.local/lib/python3.6/site-packages/ipykernel_launcher.py:61: RuntimeWarning: invalid value encountered in matmul\n",
      "/home/dmitry/.local/lib/python3.6/site-packages/ipykernel_launcher.py:71: RuntimeWarning: invalid value encountered in subtract\n"
     ]
    },
    {
     "name": "stdout",
     "output_type": "stream",
     "text": [
      "c = 5, alpha =  0.15, max_epoch =  5\n",
      "            model_type: lin_reg, score = 0.44654170249344455\n",
      "c = 5, alpha =  0.15, max_epoch =  10\n",
      "            model_type: log_reg, score = 0.45624245567311555\n",
      "c = 5, alpha =  0.15, max_epoch =  10\n",
      "            model_type: lin_reg, score = 0.4466077084720162\n",
      "c = 5, alpha =  0.15, max_epoch =  20\n",
      "            model_type: log_reg, score = 0.4477417368843293\n",
      "c = 5, alpha =  0.15, max_epoch =  20\n",
      "            model_type: lin_reg, score = 0.4466061689383503\n",
      "c = 5, alpha =  0.25, max_epoch =  5\n",
      "            model_type: log_reg, score = 0.374129576789713\n",
      "c = 5, alpha =  0.25, max_epoch =  5\n",
      "            model_type: lin_reg, score = 0.44661093435960675\n",
      "c = 5, alpha =  0.25, max_epoch =  10\n",
      "            model_type: log_reg, score = 0.36400325430325076\n",
      "c = 5, alpha =  0.25, max_epoch =  10\n",
      "            model_type: lin_reg, score = 0.4465724173666393\n",
      "c = 5, alpha =  0.25, max_epoch =  20\n",
      "            model_type: log_reg, score = 0.5756933650733218\n",
      "c = 5, alpha =  0.25, max_epoch =  20\n",
      "            model_type: lin_reg, score = 0.4465563984870535\n",
      "c = 5, alpha =  0.5, max_epoch =  5\n",
      "            model_type: log_reg, score = 0.30143519815696895\n",
      "c = 5, alpha =  0.5, max_epoch =  5\n",
      "            model_type: lin_reg, score = 0.4465985348696457\n",
      "c = 5, alpha =  0.5, max_epoch =  10\n",
      "            model_type: log_reg, score = 0.20246165073751285\n",
      "c = 5, alpha =  0.5, max_epoch =  10\n",
      "            model_type: lin_reg, score = 0.44654808976175236\n",
      "c = 5, alpha =  0.5, max_epoch =  20\n",
      "            model_type: log_reg, score = 0.33233403769120656\n",
      "c = 5, alpha =  0.5, max_epoch =  20\n",
      "            model_type: lin_reg, score = 0.44656315035991695\n",
      "c = 10, alpha =  0.01, max_epoch =  5\n",
      "            model_type: log_reg, score = 0.4956832042758112\n",
      "c = 10, alpha =  0.01, max_epoch =  5\n",
      "            model_type: lin_reg, score = 0.5226603984795657\n",
      "c = 10, alpha =  0.01, max_epoch =  10\n",
      "            model_type: log_reg, score = 0.5029842662257854\n",
      "c = 10, alpha =  0.01, max_epoch =  10\n",
      "            model_type: lin_reg, score = 0.49205493805206774\n",
      "c = 10, alpha =  0.01, max_epoch =  20\n",
      "            model_type: log_reg, score = 0.4984973119471792\n",
      "c = 10, alpha =  0.01, max_epoch =  20\n",
      "            model_type: lin_reg, score = 0.40747155107383265\n",
      "c = 10, alpha =  0.05, max_epoch =  5\n",
      "            model_type: log_reg, score = 0.5251457115096404\n",
      "c = 10, alpha =  0.05, max_epoch =  5\n",
      "            model_type: lin_reg, score = 0.30502379180073314\n",
      "c = 10, alpha =  0.05, max_epoch =  10\n",
      "            model_type: log_reg, score = 0.4785115279080537\n",
      "c = 10, alpha =  0.05, max_epoch =  10\n",
      "            model_type: lin_reg, score = 0.5881219848183933\n",
      "c = 10, alpha =  0.05, max_epoch =  20\n",
      "            model_type: log_reg, score = 0.5090049442140018\n",
      "c = 10, alpha =  0.05, max_epoch =  20\n",
      "            model_type: lin_reg, score = 0.5538249821508084\n",
      "c = 10, alpha =  0.15, max_epoch =  5\n",
      "            model_type: log_reg, score = 0.5572106061682139\n",
      "c = 10, alpha =  0.15, max_epoch =  5\n",
      "            model_type: lin_reg, score = 0.4465733803868839\n",
      "c = 10, alpha =  0.15, max_epoch =  10\n",
      "            model_type: log_reg, score = 0.5357546314483405\n",
      "c = 10, alpha =  0.15, max_epoch =  10\n",
      "            model_type: lin_reg, score = 0.4465761731491728\n",
      "c = 10, alpha =  0.15, max_epoch =  20\n",
      "            model_type: log_reg, score = 0.4357134608468643\n",
      "c = 10, alpha =  0.15, max_epoch =  20\n",
      "            model_type: lin_reg, score = 0.44654832545313966\n",
      "c = 10, alpha =  0.25, max_epoch =  5\n",
      "            model_type: log_reg, score = 0.29606999990631705\n",
      "c = 10, alpha =  0.25, max_epoch =  5\n",
      "            model_type: lin_reg, score = 0.44652250804566956\n",
      "c = 10, alpha =  0.25, max_epoch =  10\n",
      "            model_type: log_reg, score = 0.36964742916061893\n",
      "c = 10, alpha =  0.25, max_epoch =  10\n",
      "            model_type: lin_reg, score = 0.4465300365593543\n",
      "c = 10, alpha =  0.25, max_epoch =  20\n",
      "            model_type: log_reg, score = 0.4745827525531204\n",
      "c = 10, alpha =  0.25, max_epoch =  20\n",
      "            model_type: lin_reg, score = 0.4464908354784973\n",
      "c = 10, alpha =  0.5, max_epoch =  5\n",
      "            model_type: log_reg, score = 0.5717846047071972\n",
      "c = 10, alpha =  0.5, max_epoch =  5\n",
      "            model_type: lin_reg, score = 0.44658979090562045\n"
     ]
    },
    {
     "name": "stderr",
     "output_type": "stream",
     "text": [
      "/home/dmitry/.local/lib/python3.6/site-packages/ipykernel_launcher.py:46: RuntimeWarning: divide by zero encountered in log\n",
      "/home/dmitry/.local/lib/python3.6/site-packages/ipykernel_launcher.py:46: RuntimeWarning: invalid value encountered in multiply\n"
     ]
    },
    {
     "name": "stdout",
     "output_type": "stream",
     "text": [
      "c = 10, alpha =  0.5, max_epoch =  10\n",
      "            model_type: log_reg, score = 0.4120114520320985\n",
      "c = 10, alpha =  0.5, max_epoch =  10\n",
      "            model_type: lin_reg, score = 0.4465524179162433\n",
      "c = 10, alpha =  0.5, max_epoch =  20\n",
      "            model_type: log_reg, score = 0.3320761696556494\n",
      "c = 10, alpha =  0.5, max_epoch =  20\n",
      "            model_type: lin_reg, score = 0.44654625949006205\n",
      "c = 50, alpha =  0.01, max_epoch =  5\n",
      "            model_type: log_reg, score = 0.5166314553315406\n",
      "c = 50, alpha =  0.01, max_epoch =  5\n",
      "            model_type: lin_reg, score = 0.47346926623330465\n",
      "c = 50, alpha =  0.01, max_epoch =  10\n",
      "            model_type: log_reg, score = 0.5092924100110727\n",
      "c = 50, alpha =  0.01, max_epoch =  10\n",
      "            model_type: lin_reg, score = 0.5352202982743502\n",
      "c = 50, alpha =  0.01, max_epoch =  20\n",
      "            model_type: log_reg, score = 0.527914624000938\n",
      "c = 50, alpha =  0.01, max_epoch =  20\n",
      "            model_type: lin_reg, score = 0.5367627505847584\n",
      "c = 50, alpha =  0.05, max_epoch =  5\n",
      "            model_type: log_reg, score = 0.4931074436259603\n",
      "c = 50, alpha =  0.05, max_epoch =  5\n",
      "            model_type: lin_reg, score = 0.3614573506782901\n",
      "c = 50, alpha =  0.05, max_epoch =  10\n",
      "            model_type: log_reg, score = 0.5145337362087107\n",
      "c = 50, alpha =  0.05, max_epoch =  10\n",
      "            model_type: lin_reg, score = 0.22197043529635166\n",
      "c = 50, alpha =  0.05, max_epoch =  20\n",
      "            model_type: log_reg, score = 0.5160900659163176\n",
      "c = 50, alpha =  0.05, max_epoch =  20\n",
      "            model_type: lin_reg, score = 0.18869507782810144\n",
      "c = 50, alpha =  0.15, max_epoch =  5\n",
      "            model_type: log_reg, score = 0.32032964041265904\n",
      "c = 50, alpha =  0.15, max_epoch =  5\n",
      "            model_type: lin_reg, score = 0.4466126415214144\n",
      "c = 50, alpha =  0.15, max_epoch =  10\n",
      "            model_type: log_reg, score = 0.330458548749573\n",
      "c = 50, alpha =  0.15, max_epoch =  10\n",
      "            model_type: lin_reg, score = 0.4465712203026871\n",
      "c = 50, alpha =  0.15, max_epoch =  20\n",
      "            model_type: log_reg, score = 0.5595174368738998\n",
      "c = 50, alpha =  0.15, max_epoch =  20\n",
      "            model_type: lin_reg, score = 0.44659766332108014\n",
      "c = 50, alpha =  0.25, max_epoch =  5\n",
      "            model_type: log_reg, score = 0.5691630739235375\n",
      "c = 50, alpha =  0.25, max_epoch =  5\n",
      "            model_type: lin_reg, score = 0.44660188690005165\n",
      "c = 50, alpha =  0.25, max_epoch =  10\n",
      "            model_type: log_reg, score = 0.3812539427513497\n",
      "c = 50, alpha =  0.25, max_epoch =  10\n",
      "            model_type: lin_reg, score = 0.44657805127639466\n",
      "c = 50, alpha =  0.25, max_epoch =  20\n",
      "            model_type: log_reg, score = 0.2120021509739848\n",
      "c = 50, alpha =  0.25, max_epoch =  20\n",
      "            model_type: lin_reg, score = 0.4465704013507055\n",
      "c = 50, alpha =  0.5, max_epoch =  5\n",
      "            model_type: log_reg, score = 0.3759274015050908\n",
      "c = 50, alpha =  0.5, max_epoch =  5\n",
      "            model_type: lin_reg, score = 0.4466058593966226\n",
      "c = 50, alpha =  0.5, max_epoch =  10\n",
      "            model_type: log_reg, score = 0.416390599783208\n",
      "c = 50, alpha =  0.5, max_epoch =  10\n",
      "            model_type: lin_reg, score = 0.4466053485594747\n",
      "c = 50, alpha =  0.5, max_epoch =  20\n",
      "            model_type: log_reg, score = 0.3604328136848492\n",
      "c = 50, alpha =  0.5, max_epoch =  20\n",
      "            model_type: lin_reg, score = 0.4465435158529325\n",
      "c = 100, alpha =  0.01, max_epoch =  5\n",
      "            model_type: log_reg, score = 0.5337162571970127\n",
      "c = 100, alpha =  0.01, max_epoch =  5\n",
      "            model_type: lin_reg, score = 0.3543695691164195\n",
      "c = 100, alpha =  0.01, max_epoch =  10\n",
      "            model_type: log_reg, score = 0.5201044489769693\n",
      "c = 100, alpha =  0.01, max_epoch =  10\n",
      "            model_type: lin_reg, score = 0.5274720907695515\n",
      "c = 100, alpha =  0.01, max_epoch =  20\n",
      "            model_type: log_reg, score = 0.5250765566743222\n",
      "c = 100, alpha =  0.01, max_epoch =  20\n",
      "            model_type: lin_reg, score = 0.5248372234803942\n",
      "c = 100, alpha =  0.05, max_epoch =  5\n",
      "            model_type: log_reg, score = 0.525137418184353\n",
      "c = 100, alpha =  0.05, max_epoch =  5\n",
      "            model_type: lin_reg, score = 0.4202189277580534\n",
      "c = 100, alpha =  0.05, max_epoch =  10\n",
      "            model_type: log_reg, score = 0.5179645402329949\n",
      "c = 100, alpha =  0.05, max_epoch =  10\n",
      "            model_type: lin_reg, score = 0.5914780313263316\n",
      "c = 100, alpha =  0.05, max_epoch =  20\n",
      "            model_type: log_reg, score = 0.46354042347128116\n",
      "c = 100, alpha =  0.05, max_epoch =  20\n",
      "            model_type: lin_reg, score = 0.0632668043036667\n",
      "c = 100, alpha =  0.15, max_epoch =  5\n",
      "            model_type: log_reg, score = 0.5714940614654292\n",
      "c = 100, alpha =  0.15, max_epoch =  5\n",
      "            model_type: lin_reg, score = 0.4465985915573041\n",
      "c = 100, alpha =  0.15, max_epoch =  10\n",
      "            model_type: log_reg, score = 0.5310978342945198\n",
      "c = 100, alpha =  0.15, max_epoch =  10\n",
      "            model_type: lin_reg, score = 0.446608433556488\n",
      "c = 100, alpha =  0.15, max_epoch =  20\n",
      "            model_type: log_reg, score = 0.5320675434299091\n",
      "c = 100, alpha =  0.15, max_epoch =  20\n",
      "            model_type: lin_reg, score = 0.4465355875360966\n",
      "c = 100, alpha =  0.25, max_epoch =  5\n",
      "            model_type: log_reg, score = 0.03953010697298386\n",
      "c = 100, alpha =  0.25, max_epoch =  5\n",
      "            model_type: lin_reg, score = 0.44657394058568306\n",
      "c = 100, alpha =  0.25, max_epoch =  10\n",
      "            model_type: log_reg, score = 0.5732368595122965\n",
      "c = 100, alpha =  0.25, max_epoch =  10\n",
      "            model_type: lin_reg, score = 0.4465101527697554\n",
      "c = 100, alpha =  0.25, max_epoch =  20\n",
      "            model_type: log_reg, score = 0.4600011807688113\n",
      "c = 100, alpha =  0.25, max_epoch =  20\n",
      "            model_type: lin_reg, score = 0.44661187775612765\n",
      "c = 100, alpha =  0.5, max_epoch =  5\n",
      "            model_type: log_reg, score = 0.44497232918220225\n",
      "c = 100, alpha =  0.5, max_epoch =  5\n",
      "            model_type: lin_reg, score = 0.4465961981376796\n",
      "c = 100, alpha =  0.5, max_epoch =  10\n",
      "            model_type: log_reg, score = 0.4354581260682126\n",
      "c = 100, alpha =  0.5, max_epoch =  10\n",
      "            model_type: lin_reg, score = 0.446609451743535\n",
      "c = 100, alpha =  0.5, max_epoch =  20\n",
      "            model_type: log_reg, score = 0.5870773695482856\n",
      "c = 100, alpha =  0.5, max_epoch =  20\n",
      "            model_type: lin_reg, score = 0.4465855649264454\n",
      "c = 500, alpha =  0.01, max_epoch =  5\n",
      "            model_type: log_reg, score = 0.49730512450387243\n",
      "c = 500, alpha =  0.01, max_epoch =  5\n",
      "            model_type: lin_reg, score = 0.5368868781773418\n",
      "c = 500, alpha =  0.01, max_epoch =  10\n",
      "            model_type: log_reg, score = 0.49949445518401175\n",
      "c = 500, alpha =  0.01, max_epoch =  10\n",
      "            model_type: lin_reg, score = 0.33697311417677245\n",
      "c = 500, alpha =  0.01, max_epoch =  20\n",
      "            model_type: log_reg, score = 0.513435841409891\n",
      "c = 500, alpha =  0.01, max_epoch =  20\n",
      "            model_type: lin_reg, score = 0.5197281770326355\n",
      "c = 500, alpha =  0.05, max_epoch =  5\n",
      "            model_type: log_reg, score = 0.5026268533222463\n",
      "c = 500, alpha =  0.05, max_epoch =  5\n",
      "            model_type: lin_reg, score = 0.5873839621096765\n",
      "c = 500, alpha =  0.05, max_epoch =  10\n",
      "            model_type: log_reg, score = 0.5385260718881509\n",
      "c = 500, alpha =  0.05, max_epoch =  10\n",
      "            model_type: lin_reg, score = 0.5783947252694657\n",
      "c = 500, alpha =  0.05, max_epoch =  20\n",
      "            model_type: log_reg, score = 0.3215791447968927\n",
      "c = 500, alpha =  0.05, max_epoch =  20\n",
      "            model_type: lin_reg, score = 0.4430885872210655\n",
      "c = 500, alpha =  0.15, max_epoch =  5\n",
      "            model_type: log_reg, score = 0.5036038831467228\n",
      "c = 500, alpha =  0.15, max_epoch =  5\n",
      "            model_type: lin_reg, score = 0.4466130538527446\n",
      "c = 500, alpha =  0.15, max_epoch =  10\n",
      "            model_type: log_reg, score = 0.4907134404713685\n",
      "c = 500, alpha =  0.15, max_epoch =  10\n",
      "            model_type: lin_reg, score = 0.4465991345156089\n",
      "c = 500, alpha =  0.15, max_epoch =  20\n",
      "            model_type: log_reg, score = 0.5552498520422469\n",
      "c = 500, alpha =  0.15, max_epoch =  20\n",
      "            model_type: lin_reg, score = 0.4465597560805518\n",
      "c = 500, alpha =  0.25, max_epoch =  5\n",
      "            model_type: log_reg, score = 0.5348086733612508\n"
     ]
    },
    {
     "name": "stdout",
     "output_type": "stream",
     "text": [
      "c = 500, alpha =  0.25, max_epoch =  5\n",
      "            model_type: lin_reg, score = 0.44660709639899215\n",
      "c = 500, alpha =  0.25, max_epoch =  10\n",
      "            model_type: log_reg, score = 0.5614846286734276\n",
      "c = 500, alpha =  0.25, max_epoch =  10\n",
      "            model_type: lin_reg, score = 0.44660870328443836\n",
      "c = 500, alpha =  0.25, max_epoch =  20\n",
      "            model_type: log_reg, score = 0.34601434280535764\n",
      "c = 500, alpha =  0.25, max_epoch =  20\n",
      "            model_type: lin_reg, score = 0.44659567202628403\n",
      "c = 500, alpha =  0.5, max_epoch =  5\n",
      "            model_type: log_reg, score = 0.41878589587591425\n",
      "c = 500, alpha =  0.5, max_epoch =  5\n",
      "            model_type: lin_reg, score = 0.44661209716721245\n",
      "c = 500, alpha =  0.5, max_epoch =  10\n",
      "            model_type: log_reg, score = 0.37822310502009815\n",
      "c = 500, alpha =  0.5, max_epoch =  10\n",
      "            model_type: lin_reg, score = 0.4465418806272434\n",
      "c = 500, alpha =  0.5, max_epoch =  20\n",
      "            model_type: log_reg, score = 0.5935371103940019\n",
      "c = 500, alpha =  0.5, max_epoch =  20\n",
      "            model_type: lin_reg, score = 0.4466148428675836\n",
      "c = 1000, alpha =  0.01, max_epoch =  5\n",
      "            model_type: log_reg, score = 0.5242072498526417\n",
      "c = 1000, alpha =  0.01, max_epoch =  5\n",
      "            model_type: lin_reg, score = 0.48164616185504033\n",
      "c = 1000, alpha =  0.01, max_epoch =  10\n",
      "            model_type: log_reg, score = 0.5319690793710156\n",
      "c = 1000, alpha =  0.01, max_epoch =  10\n",
      "            model_type: lin_reg, score = 0.49228036108413714\n",
      "c = 1000, alpha =  0.01, max_epoch =  20\n",
      "            model_type: log_reg, score = 0.5030641258933307\n",
      "c = 1000, alpha =  0.01, max_epoch =  20\n",
      "            model_type: lin_reg, score = 0.5372476362323825\n",
      "c = 1000, alpha =  0.05, max_epoch =  5\n",
      "            model_type: log_reg, score = 0.45211018274469766\n",
      "c = 1000, alpha =  0.05, max_epoch =  5\n",
      "            model_type: lin_reg, score = 0.5968680370644858\n",
      "c = 1000, alpha =  0.05, max_epoch =  10\n",
      "            model_type: log_reg, score = 0.5023993874921827\n",
      "c = 1000, alpha =  0.05, max_epoch =  10\n",
      "            model_type: lin_reg, score = 0.38521254391825216\n",
      "c = 1000, alpha =  0.05, max_epoch =  20\n",
      "            model_type: log_reg, score = 0.5445922135907116\n",
      "c = 1000, alpha =  0.05, max_epoch =  20\n",
      "            model_type: lin_reg, score = 0.5768627630979242\n",
      "c = 1000, alpha =  0.15, max_epoch =  5\n",
      "            model_type: log_reg, score = 0.5167378978075513\n",
      "c = 1000, alpha =  0.15, max_epoch =  5\n",
      "            model_type: lin_reg, score = 0.4464839949772344\n",
      "c = 1000, alpha =  0.15, max_epoch =  10\n",
      "            model_type: log_reg, score = 0.5600256371083018\n",
      "c = 1000, alpha =  0.15, max_epoch =  10\n",
      "            model_type: lin_reg, score = 0.44657686663412566\n",
      "c = 1000, alpha =  0.15, max_epoch =  20\n",
      "            model_type: log_reg, score = 0.3320815958606966\n",
      "c = 1000, alpha =  0.15, max_epoch =  20\n",
      "            model_type: lin_reg, score = 0.4465893223650308\n",
      "c = 1000, alpha =  0.25, max_epoch =  5\n",
      "            model_type: log_reg, score = 0.36252823662532735\n",
      "c = 1000, alpha =  0.25, max_epoch =  5\n",
      "            model_type: lin_reg, score = 0.44660327338641065\n",
      "c = 1000, alpha =  0.25, max_epoch =  10\n",
      "            model_type: log_reg, score = 0.5277842021227114\n",
      "c = 1000, alpha =  0.25, max_epoch =  10\n",
      "            model_type: lin_reg, score = 0.44654799427583886\n",
      "c = 1000, alpha =  0.25, max_epoch =  20\n",
      "            model_type: log_reg, score = 0.38572078608115823\n",
      "c = 1000, alpha =  0.25, max_epoch =  20\n",
      "            model_type: lin_reg, score = 0.4465715431712758\n",
      "c = 1000, alpha =  0.5, max_epoch =  5\n",
      "            model_type: log_reg, score = 0.39671559180089705\n",
      "c = 1000, alpha =  0.5, max_epoch =  5\n",
      "            model_type: lin_reg, score = 0.4465900547857829\n",
      "c = 1000, alpha =  0.5, max_epoch =  10\n",
      "            model_type: log_reg, score = 0.36670144388382164\n",
      "c = 1000, alpha =  0.5, max_epoch =  10\n",
      "            model_type: lin_reg, score = 0.44659388237343617\n",
      "c = 1000, alpha =  0.5, max_epoch =  20\n",
      "            model_type: log_reg, score = 0.5650160577514951\n",
      "c = 1000, alpha =  0.5, max_epoch =  20\n",
      "            model_type: lin_reg, score = 0.4465811793118917\n",
      "{'C': 1000, 'alpha': 0.05, 'epoch': 5, 'model_type': 'lin_reg'}\n",
      "0.5968680370644858\n"
     ]
    }
   ],
   "source": [
    "from sklearn.model_selection import KFold\n",
    "\n",
    "kf = KFold(n_splits=3, shuffle = True)\n",
    "\n",
    "c_range = [5, 10, 50, 100, 500, 1000]\n",
    "alpha_range = [0.01, 0.05, 0.15, 0.25, 0.5]\n",
    "epoch_range = [5, 10, 20]\n",
    "\n",
    "best_model = {}\n",
    "max_score = 0.0\n",
    "\n",
    "for c in c_range:\n",
    "    for alpha in alpha_range:\n",
    "        for max_epoch in epoch_range:\n",
    "            clf = MySGDClassifier(batch_generator, C = c,alpha = alpha, \n",
    "                                  max_epoch = max_epoch, model_type = 'log_reg')\n",
    "            ind = kf.split(X)\n",
    "            scores = []\n",
    "            for train_ind, test_ind in ind:\n",
    "                clf.fit(X[train_ind], y_train[train_ind], batch_size = 10)\n",
    "                scores.append(f1_score(y_train[test_ind], clf.predict(X[test_ind])))\n",
    "            score = np.mean(np.array(scores))\n",
    "            \n",
    "            if score > max_score:\n",
    "                best_model = {'C': c, 'alpha': alpha, 'epoch': max_epoch, 'model_type': 'log_reg'}\n",
    "                max_score = score\n",
    "                \n",
    "            print('''c = {}, alpha =  {}, max_epoch =  {}\n",
    "            model_type: log_reg, score = {}'''.format(c, alpha, max_epoch, score))\n",
    "            \n",
    "            clf = MySGDClassifier(batch_generator,C = c, alpha = alpha, \n",
    "                                  max_epoch = max_epoch, model_type = 'lin_reg')\n",
    "            ind = kf.split(X)\n",
    "            scores = []\n",
    "            for train_ind, test_ind in ind:\n",
    "                clf.fit(X[train_ind], y_train[train_ind], batch_size = 10)\n",
    "                scores.append(f1_score(y_train[test_ind], (clf.predict(X[test_ind]) >= 0.5).astype(int)))\n",
    "            score = np.mean(np.array(scores))\n",
    "            \n",
    "            if score > max_score:\n",
    "                best_model = {'C': c, 'alpha': alpha, 'epoch': max_epoch, 'model_type': 'lin_reg'}\n",
    "                max_score = score\n",
    "                \n",
    "            print('''c = {}, alpha =  {}, max_epoch =  {}\n",
    "            model_type: lin_reg, score = {}'''.format(c, alpha, max_epoch, score))\n",
    "            \n",
    "print(best_model)\n",
    "print(max_score)"
   ]
  },
  {
   "cell_type": "code",
   "execution_count": 31,
   "metadata": {},
   "outputs": [
    {
     "name": "stdout",
     "output_type": "stream",
     "text": [
      "{'C': 1000, 'alpha': 0.05, 'epoch': 5, 'model_type': 'lin_reg'}\n"
     ]
    }
   ],
   "source": [
    "print(best_model)"
   ]
  },
  {
   "cell_type": "code",
   "execution_count": null,
   "metadata": {},
   "outputs": [],
   "source": [
    "\n",
    "\n",
    "kf = KFold(n_splits=3, shuffle = True)\n",
    "\n",
    "threshold_range = [0.2, 0.3, 0.4, 0.5, 0.6, 0.7, 0.8]\n",
    "\n",
    "c, alpha, max_epoch = best_model['C'], best_model['alpha'], best_model['epoch']\n",
    "model_type, batch_size = best_model['model_type'], best_model['batch_size']\n",
    "\n",
    "best_threshold = 0\n",
    "max_score = 0\n",
    "\n",
    "for threshold in threshold_range:\n",
    "    clf = MySGDClassifier(batch_generator, C = 1000,alpha = 0.05, \n",
    "                          max_epoch = 5, model_type = 'lin_reg', batch_size = batch_size)\n",
    "    ind = kf.split(X)\n",
    "    scores = []\n",
    "    for train_ind, test_ind in ind:\n",
    "        clf.fit(X[train_ind], y_train[train_ind])\n",
    "        scores.append(f1_score(y_train[test_ind], clf.predict(X[test_ind])))\n",
    "    score = np.mean(np.array(scores))\n",
    "            \n",
    "    if score > max_score:\n",
    "        best_threshold = threshold\n",
    "        max_score = score\n",
    "                \n",
    "    print('''threshold = {}, score = {}'''.format(threshold, score))\n",
    "            \n",
    "best_model['threshold'] = best_threshold\n",
    "print(best_model)\n",
    "print(max_score)"
   ]
  },
  {
   "cell_type": "code",
   "execution_count": null,
   "metadata": {},
   "outputs": [],
   "source": []
  },
  {
   "cell_type": "code",
   "execution_count": null,
   "metadata": {},
   "outputs": [],
   "source": []
  },
  {
   "cell_type": "code",
   "execution_count": null,
   "metadata": {},
   "outputs": [],
   "source": []
  },
  {
   "cell_type": "code",
   "execution_count": null,
   "metadata": {},
   "outputs": [],
   "source": []
  },
  {
   "cell_type": "code",
   "execution_count": null,
   "metadata": {},
   "outputs": [],
   "source": []
  },
  {
   "cell_type": "code",
   "execution_count": 33,
   "metadata": {},
   "outputs": [],
   "source": [
    "test_data = pd.read_csv('test_groups.csv')\n",
    "testgroups_titledata = {}\n",
    "for i in range(len(test_data)):\n",
    "    new_doc = test_data.iloc[i]\n",
    "    doc_group = new_doc['group_id']\n",
    "    doc_id = new_doc['doc_id']\n",
    "    title = doc_to_title[doc_id]\n",
    "    if doc_group not in testgroups_titledata:\n",
    "        testgroups_titledata[doc_group] = []\n",
    "    testgroups_titledata[doc_group].append((doc_id, title))"
   ]
  },
  {
   "cell_type": "code",
   "execution_count": 34,
   "metadata": {},
   "outputs": [
    {
     "name": "stdout",
     "output_type": "stream",
     "text": [
      "(16627, 15) (16627,)\n"
     ]
    }
   ],
   "source": [
    "import numpy as np\n",
    "X_test = []\n",
    "groups_test = []\n",
    "for new_group in testgroups_titledata:\n",
    "    docs = testgroups_titledata[new_group]\n",
    "    for k, (doc_id, title) in enumerate(docs):\n",
    "        groups_test.append(new_group)\n",
    "        all_dist = []\n",
    "        words = set(title.strip().split())\n",
    "        for j in range(0, len(docs)):\n",
    "            if k == j:\n",
    "                continue\n",
    "            doc_id_j, title_j = docs[j]\n",
    "            words_j = set(title_j.strip().split())\n",
    "            all_dist.append(len(words.intersection(words_j)))\n",
    "        X_test.append(sorted(all_dist, reverse=True)[0:15]    )\n",
    "X_test = np.array(X_test)\n",
    "groups_test = np.array(groups_test)\n",
    "print (X_test.shape, groups_test.shape)\n"
   ]
  },
  {
   "cell_type": "code",
   "execution_count": 35,
   "metadata": {},
   "outputs": [
    {
     "name": "stdout",
     "output_type": "stream",
     "text": [
      "(16627, 15)\n"
     ]
    }
   ],
   "source": [
    "st = StandardScaler()\n",
    "X_test = st.fit_transform(X_test, y_train)\n",
    "print(X_test.shape)"
   ]
  },
  {
   "cell_type": "code",
   "execution_count": 60,
   "metadata": {},
   "outputs": [],
   "source": [
    "best_clf = MySGDClassifier(batch_generator, C = best_model['C'], alpha = best_model['alpha'], \n",
    "                      max_epoch = best_model['epoch'], model_type = best_model['model_type'])\n",
    "best_clf.fit(X, y_train, batch_size = 200)\n",
    "y_pred = best_clf.predict(X_test)\n",
    "#threshold = best_model['threshold']\n",
    "y_pred = (best_clf.predict(X_test) >= 0.5).astype(int)"
   ]
  },
  {
   "cell_type": "code",
   "execution_count": null,
   "metadata": {},
   "outputs": [],
   "source": []
  },
  {
   "cell_type": "code",
   "execution_count": 61,
   "metadata": {},
   "outputs": [
    {
     "data": {
      "text/plain": [
       "(16627, 3007)"
      ]
     },
     "execution_count": 61,
     "metadata": {},
     "output_type": "execute_result"
    }
   ],
   "source": [
    "len(y_pred), sum(y_pred)"
   ]
  },
  {
   "cell_type": "code",
   "execution_count": 62,
   "metadata": {},
   "outputs": [
    {
     "name": "stdout",
     "output_type": "stream",
     "text": [
      "[11691 11692 11693 ... 28315 28316 28317]\n"
     ]
    }
   ],
   "source": [
    "\n",
    "\n",
    "sample = pd.read_csv('sample_submission.csv')\n",
    "id_range = sample['pair_id'].values\n",
    "print(id_range)\n",
    "\n"
   ]
  },
  {
   "cell_type": "code",
   "execution_count": 70,
   "metadata": {},
   "outputs": [],
   "source": [
    "y_pred = (best_clf.predict(X_test) >= 0.5).astype(int)"
   ]
  },
  {
   "cell_type": "code",
   "execution_count": 71,
   "metadata": {},
   "outputs": [
    {
     "data": {
      "text/html": [
       "<div>\n",
       "<style scoped>\n",
       "    .dataframe tbody tr th:only-of-type {\n",
       "        vertical-align: middle;\n",
       "    }\n",
       "\n",
       "    .dataframe tbody tr th {\n",
       "        vertical-align: top;\n",
       "    }\n",
       "\n",
       "    .dataframe thead th {\n",
       "        text-align: right;\n",
       "    }\n",
       "</style>\n",
       "<table border=\"1\" class=\"dataframe\">\n",
       "  <thead>\n",
       "    <tr style=\"text-align: right;\">\n",
       "      <th></th>\n",
       "      <th>pair_id</th>\n",
       "      <th>target</th>\n",
       "    </tr>\n",
       "  </thead>\n",
       "  <tbody>\n",
       "    <tr>\n",
       "      <th>0</th>\n",
       "      <td>11691</td>\n",
       "      <td>0</td>\n",
       "    </tr>\n",
       "    <tr>\n",
       "      <th>1</th>\n",
       "      <td>11692</td>\n",
       "      <td>1</td>\n",
       "    </tr>\n",
       "    <tr>\n",
       "      <th>2</th>\n",
       "      <td>11693</td>\n",
       "      <td>1</td>\n",
       "    </tr>\n",
       "    <tr>\n",
       "      <th>3</th>\n",
       "      <td>11694</td>\n",
       "      <td>1</td>\n",
       "    </tr>\n",
       "    <tr>\n",
       "      <th>4</th>\n",
       "      <td>11695</td>\n",
       "      <td>0</td>\n",
       "    </tr>\n",
       "    <tr>\n",
       "      <th>...</th>\n",
       "      <td>...</td>\n",
       "      <td>...</td>\n",
       "    </tr>\n",
       "    <tr>\n",
       "      <th>16622</th>\n",
       "      <td>28313</td>\n",
       "      <td>0</td>\n",
       "    </tr>\n",
       "    <tr>\n",
       "      <th>16623</th>\n",
       "      <td>28314</td>\n",
       "      <td>0</td>\n",
       "    </tr>\n",
       "    <tr>\n",
       "      <th>16624</th>\n",
       "      <td>28315</td>\n",
       "      <td>0</td>\n",
       "    </tr>\n",
       "    <tr>\n",
       "      <th>16625</th>\n",
       "      <td>28316</td>\n",
       "      <td>0</td>\n",
       "    </tr>\n",
       "    <tr>\n",
       "      <th>16626</th>\n",
       "      <td>28317</td>\n",
       "      <td>1</td>\n",
       "    </tr>\n",
       "  </tbody>\n",
       "</table>\n",
       "<p>16627 rows × 2 columns</p>\n",
       "</div>"
      ],
      "text/plain": [
       "       pair_id  target\n",
       "0        11691       0\n",
       "1        11692       1\n",
       "2        11693       1\n",
       "3        11694       1\n",
       "4        11695       0\n",
       "...        ...     ...\n",
       "16622    28313       0\n",
       "16623    28314       0\n",
       "16624    28315       0\n",
       "16625    28316       0\n",
       "16626    28317       1\n",
       "\n",
       "[16627 rows x 2 columns]"
      ]
     },
     "execution_count": 71,
     "metadata": {},
     "output_type": "execute_result"
    }
   ],
   "source": [
    "pred = pd.DataFrame({'pair_id' : id_range, 'target': y_pred})\n",
    "pred.to_csv('prediction_1.csv', index = False)\n",
    "pred"
   ]
  },
  {
   "cell_type": "code",
   "execution_count": null,
   "metadata": {},
   "outputs": [],
   "source": []
  },
  {
   "cell_type": "code",
   "execution_count": null,
   "metadata": {},
   "outputs": [],
   "source": []
  },
  {
   "cell_type": "code",
   "execution_count": null,
   "metadata": {},
   "outputs": [],
   "source": []
  },
  {
   "cell_type": "code",
   "execution_count": null,
   "metadata": {},
   "outputs": [],
   "source": []
  },
  {
   "cell_type": "code",
   "execution_count": 57,
   "metadata": {},
   "outputs": [],
   "source": [
    "best = MySGDClassifier(batch_generator, C=100, alpha=0.5, max_epoch=20, model_type='log_reg')"
   ]
  },
  {
   "cell_type": "code",
   "execution_count": 58,
   "metadata": {},
   "outputs": [],
   "source": [
    "best_clf.fit(X, y_train, batch_size = 200)\n",
    "y_pred = best_clf.predict(X_test)"
   ]
  },
  {
   "cell_type": "code",
   "execution_count": 59,
   "metadata": {},
   "outputs": [
    {
     "data": {
      "text/plain": [
       "2864.0"
      ]
     },
     "execution_count": 59,
     "metadata": {},
     "output_type": "execute_result"
    }
   ],
   "source": [
    "sum(y_pred)"
   ]
  },
  {
   "cell_type": "code",
   "execution_count": null,
   "metadata": {},
   "outputs": [],
   "source": []
  },
  {
   "cell_type": "code",
   "execution_count": 144,
   "metadata": {},
   "outputs": [],
   "source": [
    "X_val, y_val = X_train[groups_train>=110], y_train[groups_train>=110]\n",
    "X_train, y_train = X_train[groups_train<110], y_train[groups_train<110]"
   ]
  },
  {
   "cell_type": "code",
   "execution_count": 145,
   "metadata": {},
   "outputs": [],
   "source": [
    "lin_reg = MySGDClassifier(batch_generator, C=20, alpha=0.0001, max_epoch=20, model_type='lin_reg')\n",
    "lin_reg.fit(X_train, y_train, batch_size=1)\n",
    "y_pred = lin_reg.predict(X_val)"
   ]
  },
  {
   "cell_type": "code",
   "execution_count": 146,
   "metadata": {},
   "outputs": [
    {
     "data": {
      "text/plain": [
       "0.588646288209607"
      ]
     },
     "execution_count": 146,
     "metadata": {},
     "output_type": "execute_result"
    }
   ],
   "source": [
    "f1_score(y_val, y_pred) "
   ]
  },
  {
   "cell_type": "code",
   "execution_count": 147,
   "metadata": {},
   "outputs": [],
   "source": [
    "log_reg = MySGDClassifier(batch_generator, C=100, alpha=0.001, max_epoch=100, model_type='log_reg')\n",
    "log_reg.fit(X_train, y_train, batch_size=10)\n",
    "y_pred = log_reg.predict(X_val)"
   ]
  },
  {
   "cell_type": "code",
   "execution_count": 148,
   "metadata": {},
   "outputs": [
    {
     "data": {
      "text/plain": [
       "0.6232006773920407"
      ]
     },
     "execution_count": 148,
     "metadata": {},
     "output_type": "execute_result"
    }
   ],
   "source": [
    "f1_score(y_val, y_pred)"
   ]
  },
  {
   "cell_type": "code",
   "execution_count": 149,
   "metadata": {},
   "outputs": [
    {
     "data": {
      "text/plain": [
       "array([1., 0., 1., 0., 1., 1., 0., 1., 1., 0., 1., 1., 0., 1., 1., 1., 0.,\n",
       "       1., 1., 0., 0., 1., 0., 1., 0., 1., 1., 1., 1., 1., 0., 1., 0., 0.,\n",
       "       1., 0., 1., 1., 0., 1., 0., 0., 0., 1., 1., 0., 0., 0., 1., 1., 1.,\n",
       "       1., 0., 1., 1., 0., 1., 1., 1., 1., 0., 0., 1., 1., 1., 1., 0., 0.,\n",
       "       1., 0., 0., 1., 1., 1., 1., 1., 0., 1., 1., 1., 1., 0., 0., 1., 0.,\n",
       "       1., 0., 1., 1., 1., 1., 0., 1., 0., 1., 1., 1., 1., 1., 0.])"
      ]
     },
     "execution_count": 149,
     "metadata": {},
     "output_type": "execute_result"
    }
   ],
   "source": [
    "y_pred = log_reg.predict(X_val)\n",
    "y_pred[:100]"
   ]
  },
  {
   "cell_type": "code",
   "execution_count": 150,
   "metadata": {},
   "outputs": [
    {
     "data": {
      "text/plain": [
       "array([1, 0, 0, 0, 1, 0, 1, 1, 1, 1, 1, 1, 1, 1, 0, 1, 1, 0, 1, 1, 0, 1,\n",
       "       0, 1, 0, 1, 1, 1, 0, 1, 0, 1, 0, 0, 1, 1, 1, 1, 1, 1, 0, 1, 0, 1,\n",
       "       1, 1, 0, 1, 1, 1, 1, 1, 1, 1, 1, 1, 1, 1, 1, 0, 0, 1, 1, 1, 0, 1,\n",
       "       0, 0, 1, 0, 1, 0, 0, 1, 1, 1, 0, 1, 1, 1, 1, 1, 0, 1, 1, 0, 1, 1,\n",
       "       1, 1, 1, 0, 1, 0, 1, 1, 1, 1, 0, 1])"
      ]
     },
     "execution_count": 150,
     "metadata": {},
     "output_type": "execute_result"
    }
   ],
   "source": [
    "y_val[:100]"
   ]
  },
  {
   "cell_type": "markdown",
   "metadata": {
    "collapsed": true
   },
   "source": [
    "Подберите порог линейной модели, по достижении которого, Вы будете относить объект к классу 1. Вспомните, какую метрику мы оптимизируем в соревновании.  Как тогда правильно подобрать порог?"
   ]
  },
  {
   "cell_type": "code",
   "execution_count": 151,
   "metadata": {},
   "outputs": [
    {
     "data": {
      "text/plain": [
       "array([False, False, False, ...,  True,  True,  True])"
      ]
     },
     "execution_count": 151,
     "metadata": {},
     "output_type": "execute_result"
    }
   ],
   "source": [
    "100<groups_train"
   ]
  },
  {
   "cell_type": "code",
   "execution_count": null,
   "metadata": {},
   "outputs": [],
   "source": []
  },
  {
   "cell_type": "code",
   "execution_count": 152,
   "metadata": {},
   "outputs": [
    {
     "ename": "IndexError",
     "evalue": "boolean index did not match indexed array along dimension 0; dimension is 9897 but corresponding boolean dimension is 11690",
     "output_type": "error",
     "traceback": [
      "\u001b[0;31m---------------------------------------------------------------------------\u001b[0m",
      "\u001b[0;31mIndexError\u001b[0m                                Traceback (most recent call last)",
      "\u001b[0;32m<ipython-input-152-a8bd2122b668>\u001b[0m in \u001b[0;36m<module>\u001b[0;34m\u001b[0m\n\u001b[1;32m      1\u001b[0m \u001b[0mmy_reg\u001b[0m \u001b[0;34m=\u001b[0m \u001b[0mMySGDClassifier\u001b[0m\u001b[0;34m(\u001b[0m\u001b[0mbatch_generator\u001b[0m\u001b[0;34m,\u001b[0m \u001b[0mC\u001b[0m\u001b[0;34m=\u001b[0m\u001b[0;36m100\u001b[0m\u001b[0;34m,\u001b[0m \u001b[0malpha\u001b[0m\u001b[0;34m=\u001b[0m\u001b[0;36m0.001\u001b[0m\u001b[0;34m,\u001b[0m \u001b[0mmax_epoch\u001b[0m\u001b[0;34m=\u001b[0m\u001b[0;36m10\u001b[0m\u001b[0;34m,\u001b[0m \u001b[0mmodel_type\u001b[0m\u001b[0;34m=\u001b[0m\u001b[0;34m'lin_reg'\u001b[0m\u001b[0;34m)\u001b[0m\u001b[0;34m\u001b[0m\u001b[0;34m\u001b[0m\u001b[0m\n\u001b[0;32m----> 2\u001b[0;31m \u001b[0mcv\u001b[0m \u001b[0;34m=\u001b[0m \u001b[0mcross_val_score\u001b[0m\u001b[0;34m(\u001b[0m\u001b[0mmy_reg\u001b[0m\u001b[0;34m,\u001b[0m \u001b[0mX_train\u001b[0m\u001b[0;34m,\u001b[0m \u001b[0my_train\u001b[0m\u001b[0;34m)\u001b[0m\u001b[0;34m\u001b[0m\u001b[0;34m\u001b[0m\u001b[0m\n\u001b[0m",
      "\u001b[0;32m<ipython-input-99-ab6599066c80>\u001b[0m in \u001b[0;36mcross_val_score\u001b[0;34m(clf, X, y, batch_size)\u001b[0m\n\u001b[1;32m      2\u001b[0m     \u001b[0mscore\u001b[0m \u001b[0;34m=\u001b[0m \u001b[0;34m[\u001b[0m\u001b[0;34m]\u001b[0m\u001b[0;34m\u001b[0m\u001b[0;34m\u001b[0m\u001b[0m\n\u001b[1;32m      3\u001b[0m     \u001b[0;32mfor\u001b[0m \u001b[0mi\u001b[0m \u001b[0;32min\u001b[0m \u001b[0mrange\u001b[0m\u001b[0;34m(\u001b[0m\u001b[0;36m12\u001b[0m\u001b[0;34m)\u001b[0m\u001b[0;34m:\u001b[0m\u001b[0;34m\u001b[0m\u001b[0;34m\u001b[0m\u001b[0m\n\u001b[0;32m----> 4\u001b[0;31m         \u001b[0mX_val\u001b[0m \u001b[0;34m=\u001b[0m \u001b[0mX\u001b[0m\u001b[0;34m[\u001b[0m\u001b[0mnp\u001b[0m\u001b[0;34m.\u001b[0m\u001b[0mlogical_and\u001b[0m\u001b[0;34m(\u001b[0m\u001b[0;36m10\u001b[0m\u001b[0;34m*\u001b[0m\u001b[0mi\u001b[0m\u001b[0;34m<\u001b[0m\u001b[0mgroups_train\u001b[0m\u001b[0;34m,\u001b[0m \u001b[0mgroups_train\u001b[0m\u001b[0;34m<=\u001b[0m\u001b[0;36m10\u001b[0m\u001b[0;34m*\u001b[0m\u001b[0;34m(\u001b[0m\u001b[0mi\u001b[0m\u001b[0;34m+\u001b[0m\u001b[0;36m1\u001b[0m\u001b[0;34m)\u001b[0m\u001b[0;34m)\u001b[0m\u001b[0;34m]\u001b[0m\u001b[0;34m\u001b[0m\u001b[0;34m\u001b[0m\u001b[0m\n\u001b[0m\u001b[1;32m      5\u001b[0m         \u001b[0my_val\u001b[0m \u001b[0;34m=\u001b[0m \u001b[0my\u001b[0m\u001b[0;34m[\u001b[0m\u001b[0mnp\u001b[0m\u001b[0;34m.\u001b[0m\u001b[0mlogical_and\u001b[0m\u001b[0;34m(\u001b[0m\u001b[0;36m10\u001b[0m\u001b[0;34m*\u001b[0m\u001b[0mi\u001b[0m\u001b[0;34m<\u001b[0m\u001b[0mgroups_train\u001b[0m\u001b[0;34m,\u001b[0m \u001b[0mgroups_train\u001b[0m\u001b[0;34m<=\u001b[0m\u001b[0;36m10\u001b[0m\u001b[0;34m*\u001b[0m\u001b[0;34m(\u001b[0m\u001b[0mi\u001b[0m\u001b[0;34m+\u001b[0m\u001b[0;36m1\u001b[0m\u001b[0;34m)\u001b[0m\u001b[0;34m)\u001b[0m\u001b[0;34m]\u001b[0m\u001b[0;34m\u001b[0m\u001b[0;34m\u001b[0m\u001b[0m\n\u001b[1;32m      6\u001b[0m         \u001b[0mX_train\u001b[0m \u001b[0;34m=\u001b[0m \u001b[0mX\u001b[0m\u001b[0;34m[\u001b[0m\u001b[0mnp\u001b[0m\u001b[0;34m.\u001b[0m\u001b[0mlogical_or\u001b[0m\u001b[0;34m(\u001b[0m\u001b[0mgroups_train\u001b[0m\u001b[0;34m<=\u001b[0m\u001b[0;36m10\u001b[0m\u001b[0;34m*\u001b[0m\u001b[0mi\u001b[0m\u001b[0;34m,\u001b[0m \u001b[0mgroups_train\u001b[0m\u001b[0;34m>\u001b[0m\u001b[0;36m10\u001b[0m\u001b[0;34m*\u001b[0m\u001b[0;34m(\u001b[0m\u001b[0mi\u001b[0m\u001b[0;34m+\u001b[0m\u001b[0;36m1\u001b[0m\u001b[0;34m)\u001b[0m\u001b[0;34m)\u001b[0m\u001b[0;34m]\u001b[0m\u001b[0;34m\u001b[0m\u001b[0;34m\u001b[0m\u001b[0m\n",
      "\u001b[0;31mIndexError\u001b[0m: boolean index did not match indexed array along dimension 0; dimension is 9897 but corresponding boolean dimension is 11690"
     ]
    }
   ],
   "source": [
    "my_reg = MySGDClassifier(batch_generator, C=100, alpha=0.001, max_epoch=10, model_type='lin_reg')\n",
    "cv = cross_val_score(my_reg, X_train, y_train)"
   ]
  },
  {
   "cell_type": "code",
   "execution_count": 154,
   "metadata": {},
   "outputs": [
    {
     "name": "stderr",
     "output_type": "stream",
     "text": [
      "/home/dmitry/.local/lib/python3.6/site-packages/ipykernel_launcher.py:44: RuntimeWarning: divide by zero encountered in log\n",
      "/home/dmitry/.local/lib/python3.6/site-packages/ipykernel_launcher.py:44: RuntimeWarning: invalid value encountered in multiply\n"
     ]
    },
    {
     "ename": "KeyboardInterrupt",
     "evalue": "",
     "output_type": "error",
     "traceback": [
      "\u001b[0;31m---------------------------------------------------------------------------\u001b[0m",
      "\u001b[0;31mKeyboardInterrupt\u001b[0m                         Traceback (most recent call last)",
      "\u001b[0;32m<ipython-input-154-bdc3c67ba2df>\u001b[0m in \u001b[0;36m<module>\u001b[0;34m\u001b[0m\n\u001b[1;32m      4\u001b[0m \u001b[0;32mfor\u001b[0m \u001b[0mC\u001b[0m \u001b[0;32min\u001b[0m \u001b[0mC_list\u001b[0m\u001b[0;34m:\u001b[0m\u001b[0;34m\u001b[0m\u001b[0;34m\u001b[0m\u001b[0m\n\u001b[1;32m      5\u001b[0m     \u001b[0mmy_reg\u001b[0m \u001b[0;34m=\u001b[0m \u001b[0mMySGDClassifier\u001b[0m\u001b[0;34m(\u001b[0m\u001b[0mbatch_generator\u001b[0m\u001b[0;34m,\u001b[0m \u001b[0mC\u001b[0m\u001b[0;34m=\u001b[0m\u001b[0mC\u001b[0m\u001b[0;34m,\u001b[0m \u001b[0malpha\u001b[0m\u001b[0;34m=\u001b[0m\u001b[0;36m0.001\u001b[0m\u001b[0;34m,\u001b[0m \u001b[0mmax_epoch\u001b[0m\u001b[0;34m=\u001b[0m\u001b[0;36m10\u001b[0m\u001b[0;34m,\u001b[0m \u001b[0mmodel_type\u001b[0m\u001b[0;34m=\u001b[0m\u001b[0;34m'lin_reg'\u001b[0m\u001b[0;34m)\u001b[0m\u001b[0;34m\u001b[0m\u001b[0;34m\u001b[0m\u001b[0m\n\u001b[0;32m----> 6\u001b[0;31m     \u001b[0mC_score\u001b[0m\u001b[0;34m.\u001b[0m\u001b[0mappend\u001b[0m\u001b[0;34m(\u001b[0m\u001b[0mcross_val_score\u001b[0m\u001b[0;34m(\u001b[0m\u001b[0mmy_reg\u001b[0m\u001b[0;34m,\u001b[0m \u001b[0mX_train\u001b[0m\u001b[0;34m,\u001b[0m \u001b[0my_train\u001b[0m\u001b[0;34m)\u001b[0m\u001b[0;34m)\u001b[0m\u001b[0;34m\u001b[0m\u001b[0;34m\u001b[0m\u001b[0m\n\u001b[0m",
      "\u001b[0;32m<ipython-input-153-6cc679d441c9>\u001b[0m in \u001b[0;36mcross_val_score\u001b[0;34m(clf, X, y)\u001b[0m\n\u001b[1;32m      6\u001b[0m         \u001b[0mX_train\u001b[0m \u001b[0;34m=\u001b[0m \u001b[0mX\u001b[0m\u001b[0;34m[\u001b[0m\u001b[0mnp\u001b[0m\u001b[0;34m.\u001b[0m\u001b[0mlogical_or\u001b[0m\u001b[0;34m(\u001b[0m\u001b[0mgroups_train\u001b[0m\u001b[0;34m<=\u001b[0m\u001b[0;36m10\u001b[0m\u001b[0;34m*\u001b[0m\u001b[0mi\u001b[0m\u001b[0;34m,\u001b[0m \u001b[0mgroups_train\u001b[0m\u001b[0;34m>\u001b[0m\u001b[0;36m10\u001b[0m\u001b[0;34m*\u001b[0m\u001b[0;34m(\u001b[0m\u001b[0mi\u001b[0m\u001b[0;34m+\u001b[0m\u001b[0;36m1\u001b[0m\u001b[0;34m)\u001b[0m\u001b[0;34m)\u001b[0m\u001b[0;34m]\u001b[0m\u001b[0;34m\u001b[0m\u001b[0;34m\u001b[0m\u001b[0m\n\u001b[1;32m      7\u001b[0m         \u001b[0my_train\u001b[0m \u001b[0;34m=\u001b[0m \u001b[0my\u001b[0m\u001b[0;34m[\u001b[0m\u001b[0mnp\u001b[0m\u001b[0;34m.\u001b[0m\u001b[0mlogical_or\u001b[0m\u001b[0;34m(\u001b[0m\u001b[0mgroups_train\u001b[0m\u001b[0;34m<=\u001b[0m\u001b[0;36m10\u001b[0m\u001b[0;34m*\u001b[0m\u001b[0mi\u001b[0m\u001b[0;34m,\u001b[0m \u001b[0mgroups_train\u001b[0m\u001b[0;34m>\u001b[0m\u001b[0;36m10\u001b[0m\u001b[0;34m*\u001b[0m\u001b[0;34m(\u001b[0m\u001b[0mi\u001b[0m\u001b[0;34m+\u001b[0m\u001b[0;36m1\u001b[0m\u001b[0;34m)\u001b[0m\u001b[0;34m)\u001b[0m\u001b[0;34m]\u001b[0m\u001b[0;34m\u001b[0m\u001b[0;34m\u001b[0m\u001b[0m\n\u001b[0;32m----> 8\u001b[0;31m         \u001b[0mlog_reg\u001b[0m\u001b[0;34m.\u001b[0m\u001b[0mfit\u001b[0m\u001b[0;34m(\u001b[0m\u001b[0mX_train\u001b[0m\u001b[0;34m,\u001b[0m \u001b[0my_train\u001b[0m\u001b[0;34m,\u001b[0m \u001b[0mbatch_size\u001b[0m\u001b[0;34m=\u001b[0m\u001b[0;36m10\u001b[0m\u001b[0;34m)\u001b[0m\u001b[0;34m\u001b[0m\u001b[0;34m\u001b[0m\u001b[0m\n\u001b[0m\u001b[1;32m      9\u001b[0m         \u001b[0my_pred\u001b[0m \u001b[0;34m=\u001b[0m \u001b[0mlog_reg\u001b[0m\u001b[0;34m.\u001b[0m\u001b[0mpredict\u001b[0m\u001b[0;34m(\u001b[0m\u001b[0mX_val\u001b[0m\u001b[0;34m)\u001b[0m\u001b[0;34m\u001b[0m\u001b[0;34m\u001b[0m\u001b[0m\n\u001b[1;32m     10\u001b[0m         \u001b[0mscore\u001b[0m\u001b[0;34m.\u001b[0m\u001b[0mappend\u001b[0m\u001b[0;34m(\u001b[0m\u001b[0mf1_score\u001b[0m\u001b[0;34m(\u001b[0m\u001b[0my_val\u001b[0m\u001b[0;34m,\u001b[0m \u001b[0my_pred\u001b[0m\u001b[0;34m)\u001b[0m\u001b[0;34m)\u001b[0m\u001b[0;34m\u001b[0m\u001b[0;34m\u001b[0m\u001b[0m\n",
      "\u001b[0;32m<ipython-input-97-8800736c5a61>\u001b[0m in \u001b[0;36mfit\u001b[0;34m(self, X, y, batch_size, shuffle)\u001b[0m\n\u001b[1;32m     79\u001b[0m         \u001b[0;32mfor\u001b[0m \u001b[0mn\u001b[0m \u001b[0;32min\u001b[0m \u001b[0mrange\u001b[0m\u001b[0;34m(\u001b[0m\u001b[0;36m0\u001b[0m\u001b[0;34m,\u001b[0m \u001b[0mself\u001b[0m\u001b[0;34m.\u001b[0m\u001b[0mmax_epoch\u001b[0m\u001b[0;34m)\u001b[0m\u001b[0;34m:\u001b[0m\u001b[0;34m\u001b[0m\u001b[0;34m\u001b[0m\u001b[0m\n\u001b[1;32m     80\u001b[0m             \u001b[0mnew_epoch_generator\u001b[0m \u001b[0;34m=\u001b[0m \u001b[0mself\u001b[0m\u001b[0;34m.\u001b[0m\u001b[0mbatch_generator\u001b[0m\u001b[0;34m(\u001b[0m\u001b[0mX\u001b[0m\u001b[0;34m,\u001b[0m \u001b[0my\u001b[0m\u001b[0;34m,\u001b[0m \u001b[0mshuffle\u001b[0m\u001b[0;34m=\u001b[0m\u001b[0mshuffle\u001b[0m\u001b[0;34m,\u001b[0m \u001b[0mbatch_size\u001b[0m\u001b[0;34m=\u001b[0m\u001b[0mbatch_size\u001b[0m\u001b[0;34m)\u001b[0m\u001b[0;34m\u001b[0m\u001b[0;34m\u001b[0m\u001b[0m\n\u001b[0;32m---> 81\u001b[0;31m             \u001b[0;32mfor\u001b[0m \u001b[0mbatch_num\u001b[0m\u001b[0;34m,\u001b[0m \u001b[0mnew_batch\u001b[0m \u001b[0;32min\u001b[0m \u001b[0menumerate\u001b[0m\u001b[0;34m(\u001b[0m\u001b[0mnew_epoch_generator\u001b[0m\u001b[0;34m)\u001b[0m\u001b[0;34m:\u001b[0m\u001b[0;34m\u001b[0m\u001b[0;34m\u001b[0m\u001b[0m\n\u001b[0m\u001b[1;32m     82\u001b[0m                 \u001b[0mX_batch\u001b[0m \u001b[0;34m=\u001b[0m \u001b[0mnew_batch\u001b[0m\u001b[0;34m[\u001b[0m\u001b[0;36m0\u001b[0m\u001b[0;34m]\u001b[0m\u001b[0;34m\u001b[0m\u001b[0;34m\u001b[0m\u001b[0m\n\u001b[1;32m     83\u001b[0m                 \u001b[0my_batch\u001b[0m \u001b[0;34m=\u001b[0m \u001b[0mnew_batch\u001b[0m\u001b[0;34m[\u001b[0m\u001b[0;36m1\u001b[0m\u001b[0;34m]\u001b[0m\u001b[0;34m\u001b[0m\u001b[0;34m\u001b[0m\u001b[0m\n",
      "\u001b[0;32m<ipython-input-2-f0c14754cdce>\u001b[0m in \u001b[0;36mbatch_generator\u001b[0;34m(X, y, shuffle, batch_size)\u001b[0m\n\u001b[1;32m     19\u001b[0m             \u001b[0mX_copy\u001b[0m\u001b[0;34m[\u001b[0m\u001b[0mi\u001b[0m\u001b[0;34m]\u001b[0m \u001b[0;34m=\u001b[0m \u001b[0mX_copy\u001b[0m\u001b[0;34m[\u001b[0m\u001b[0mperm\u001b[0m\u001b[0;34m[\u001b[0m\u001b[0mi\u001b[0m\u001b[0;34m]\u001b[0m\u001b[0;34m]\u001b[0m\u001b[0;34m.\u001b[0m\u001b[0mcopy\u001b[0m\u001b[0;34m(\u001b[0m\u001b[0;34m)\u001b[0m\u001b[0;34m\u001b[0m\u001b[0;34m\u001b[0m\u001b[0m\n\u001b[1;32m     20\u001b[0m             \u001b[0my_copy\u001b[0m\u001b[0;34m[\u001b[0m\u001b[0mi\u001b[0m\u001b[0;34m]\u001b[0m \u001b[0;34m=\u001b[0m \u001b[0my_copy\u001b[0m\u001b[0;34m[\u001b[0m\u001b[0mperm\u001b[0m\u001b[0;34m[\u001b[0m\u001b[0mi\u001b[0m\u001b[0;34m]\u001b[0m\u001b[0;34m]\u001b[0m\u001b[0;34m.\u001b[0m\u001b[0mcopy\u001b[0m\u001b[0;34m(\u001b[0m\u001b[0;34m)\u001b[0m\u001b[0;34m\u001b[0m\u001b[0;34m\u001b[0m\u001b[0m\n\u001b[0;32m---> 21\u001b[0;31m             \u001b[0mX_copy\u001b[0m\u001b[0;34m[\u001b[0m\u001b[0mperm\u001b[0m\u001b[0;34m[\u001b[0m\u001b[0mi\u001b[0m\u001b[0;34m]\u001b[0m\u001b[0;34m]\u001b[0m \u001b[0;34m=\u001b[0m \u001b[0mx_buf\u001b[0m\u001b[0;34m\u001b[0m\u001b[0;34m\u001b[0m\u001b[0m\n\u001b[0m\u001b[1;32m     22\u001b[0m             \u001b[0my_copy\u001b[0m\u001b[0;34m[\u001b[0m\u001b[0mperm\u001b[0m\u001b[0;34m[\u001b[0m\u001b[0mi\u001b[0m\u001b[0;34m]\u001b[0m\u001b[0;34m]\u001b[0m \u001b[0;34m=\u001b[0m \u001b[0my_buf\u001b[0m\u001b[0;34m\u001b[0m\u001b[0;34m\u001b[0m\u001b[0m\n\u001b[1;32m     23\u001b[0m \u001b[0;34m\u001b[0m\u001b[0m\n",
      "\u001b[0;31mKeyboardInterrupt\u001b[0m: "
     ]
    }
   ],
   "source": [
    "# chose C\n",
    "C_list = [1, 3, 5, 10, 30, 50, 100, 200, 500, 1000]\n",
    "C_score = []\n",
    "for C in C_list:\n",
    "    my_reg = MySGDClassifier(batch_generator, C=C, alpha=0.001, max_epoch=10, model_type='lin_reg')\n",
    "    C_score.append(cross_val_score(my_reg, X_train, y_train))"
   ]
  },
  {
   "cell_type": "code",
   "execution_count": 149,
   "metadata": {},
   "outputs": [
    {
     "data": {
      "text/plain": [
       "0.49346770476823976"
      ]
     },
     "execution_count": 149,
     "metadata": {},
     "output_type": "execute_result"
    }
   ],
   "source": [
    "plt.plot(C_list, C_score)"
   ]
  },
  {
   "cell_type": "code",
   "execution_count": 161,
   "metadata": {},
   "outputs": [
    {
     "name": "stderr",
     "output_type": "stream",
     "text": [
      "/home/dmitry/.local/lib/python3.6/site-packages/ipykernel_launcher.py:44: RuntimeWarning: divide by zero encountered in log\n",
      "/home/dmitry/.local/lib/python3.6/site-packages/ipykernel_launcher.py:44: RuntimeWarning: invalid value encountered in multiply\n"
     ]
    },
    {
     "name": "stdout",
     "output_type": "stream",
     "text": [
      "0.4793263052136527\n",
      "0.48035614913843455\n",
      "0.48175864058817114\n",
      "0.48955619630723113\n"
     ]
    }
   ],
   "source": [
    "# chose alpha\n",
    "alpha_list = [0.1, 0.01, 0.001, 0.0001]\n",
    "alpha_score = []\n",
    "for alpha in alpha_list:\n",
    "    my_reg = MySGDClassifier(batch_generator, C=10, alpha=alpha, max_epoch=5, model_type='lin_reg')\n",
    "    alpha_score.append(cross_val_score(my_reg, X_train, y_train))\n",
    "    print(alpha_score[-1])"
   ]
  },
  {
   "cell_type": "code",
   "execution_count": 162,
   "metadata": {},
   "outputs": [
    {
     "data": {
      "text/plain": [
       "[<matplotlib.lines.Line2D at 0x7f71e241e780>]"
      ]
     },
     "execution_count": 162,
     "metadata": {},
     "output_type": "execute_result"
    },
    {
     "data": {
      "image/png": "[encoded data removed]",
      "text/plain": [
       "<Figure size 864x360 with 1 Axes>"
      ]
     },
     "metadata": {},
     "output_type": "display_data"
    }
   ],
   "source": [
    "plt.plot(alpha_list, alpha_score)"
   ]
  },
  {
   "cell_type": "code",
   "execution_count": 32,
   "metadata": {},
   "outputs": [
    {
     "ename": "NameError",
     "evalue": "name 'cross_val_score' is not defined",
     "output_type": "error",
     "traceback": [
      "\u001b[0;31m---------------------------------------------------------------------------\u001b[0m",
      "\u001b[0;31mNameError\u001b[0m                                 Traceback (most recent call last)",
      "\u001b[0;32m<ipython-input-32-5fce2f145cd6>\u001b[0m in \u001b[0;36m<module>\u001b[0;34m\u001b[0m\n\u001b[1;32m      1\u001b[0m \u001b[0mmy_reg\u001b[0m \u001b[0;34m=\u001b[0m \u001b[0mMySGDClassifier\u001b[0m\u001b[0;34m(\u001b[0m\u001b[0mbatch_generator\u001b[0m\u001b[0;34m,\u001b[0m \u001b[0mC\u001b[0m\u001b[0;34m=\u001b[0m\u001b[0;36m50\u001b[0m\u001b[0;34m,\u001b[0m \u001b[0malpha\u001b[0m\u001b[0;34m=\u001b[0m\u001b[0;36m0.0001\u001b[0m\u001b[0;34m,\u001b[0m \u001b[0mmax_epoch\u001b[0m\u001b[0;34m=\u001b[0m\u001b[0;36m20\u001b[0m\u001b[0;34m,\u001b[0m \u001b[0mmodel_type\u001b[0m\u001b[0;34m=\u001b[0m\u001b[0;34m'lin_reg'\u001b[0m\u001b[0;34m)\u001b[0m\u001b[0;34m\u001b[0m\u001b[0;34m\u001b[0m\u001b[0m\n\u001b[0;32m----> 2\u001b[0;31m \u001b[0mcross_val_score\u001b[0m\u001b[0;34m(\u001b[0m\u001b[0mmy_reg\u001b[0m\u001b[0;34m,\u001b[0m \u001b[0mX_train\u001b[0m\u001b[0;34m,\u001b[0m \u001b[0my_train\u001b[0m\u001b[0;34m,\u001b[0m \u001b[0mbatch_size\u001b[0m\u001b[0;34m=\u001b[0m\u001b[0;36m1\u001b[0m\u001b[0;34m)\u001b[0m\u001b[0;34m\u001b[0m\u001b[0;34m\u001b[0m\u001b[0m\n\u001b[0m",
      "\u001b[0;31mNameError\u001b[0m: name 'cross_val_score' is not defined"
     ]
    }
   ],
   "source": [
    "my_reg = MySGDClassifier(batch_generator, C=50, alpha=0.0001, max_epoch=20, model_type='lin_reg')\n",
    "cross_val_score(my_reg, X_train, y_train, batch_size=1)"
   ]
  },
  {
   "cell_type": "raw",
   "metadata": {},
   "source": [
    "y_pred = my_reg.predict(X_test).astype(np.int8)"
   ]
  },
  {
   "cell_type": "code",
   "execution_count": 170,
   "metadata": {},
   "outputs": [],
   "source": [
    "sub = pd.DataFrame({'pair_id': np.asarray(test_data['pair_id']), 'target': y_pred})\n",
    "sub = sub.set_index(['pair_id'])\n",
    "sub.to_csv('sub2.csv')"
   ]
  },
  {
   "cell_type": "markdown",
   "metadata": {},
   "source": [
    "С лучшими параметрами на валидации сделайте предсказание на тестовом множестве, отправьте его на проверку на платформу kaggle. Убедитесь, что Вы смогли побить public score первого бейзлайна."
   ]
  },
  {
   "cell_type": "markdown",
   "metadata": {
    "collapsed": true
   },
   "source": [
    "** При сдаче домашки Вам необходимо кроме ссылки на ноутбук показать Ваш ник на kaggle, под которым Вы залили решение, которое побило Handmade baseline. **"
   ]
  },
  {
   "cell_type": "code",
   "execution_count": null,
   "metadata": {
    "collapsed": true
   },
   "outputs": [],
   "source": []
  },
  {
   "cell_type": "markdown",
   "metadata": {},
   "source": [
    "# Фидбек (бесценно)"
   ]
  },
  {
   "cell_type": "markdown",
   "metadata": {},
   "source": [
    "* Какие аспекты обучения линейных моделей Вам показались непонятными? Какое место стоит дополнительно объяснить?"
   ]
  },
  {
   "cell_type": "markdown",
   "metadata": {},
   "source": [
    "***Ваше ответ здесь***"
   ]
  },
  {
   "cell_type": "markdown",
   "metadata": {},
   "source": [
    "* Здесь Вы можете оставить отзыв о этой домашней работе или о всем курсе.   "
   ]
  },
  {
   "cell_type": "markdown",
   "metadata": {},
   "source": [
    "*** ВАШ ОТЗЫВ ЗДЕСЬ***"
   ]
  },
  {
   "cell_type": "code",
   "execution_count": null,
   "metadata": {
    "collapsed": true
   },
   "outputs": [],
   "source": []
  },
  {
   "cell_type": "code",
   "execution_count": null,
   "metadata": {
    "collapsed": true
   },
   "outputs": [],
   "source": []
  }
 ],
 "metadata": {
  "anaconda-cloud": {},
  "kernelspec": {
   "display_name": "Python 3",
   "language": "python",
   "name": "python3"
  },
  "language_info": {
   "codemirror_mode": {
    "name": "ipython",
    "version": 3
   },
   "file_extension": ".py",
   "mimetype": "text/x-python",
   "name": "python",
   "nbconvert_exporter": "python",
   "pygments_lexer": "ipython3",
   "version": "3.6.9"
  },
  "nav_menu": {},
  "toc": {
   "colors": {
    "hover_highlight": "#DAA520",
    "navigate_num": "#000000",
    "navigate_text": "#333333",
    "running_highlight": "#FF0000",
    "selected_highlight": "#FFD700",
    "sidebar_border": "#EEEEEE",
    "wrapper_background": "#FFFFFF"
   },
   "moveMenuLeft": true,
   "nav_menu": {
    "height": "402px",
    "width": "253px"
   },
   "navigate_menu": true,
   "number_sections": false,
   "sideBar": true,
   "threshold": 4,
   "toc_cell": false,
   "toc_section_display": "block",
   "toc_window_display": true,
   "widenNotebook": false
  }
 },
 "nbformat": 4,
 "nbformat_minor": 2
}
